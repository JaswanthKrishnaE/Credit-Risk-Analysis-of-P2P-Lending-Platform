{
  "nbformat": 4,
  "nbformat_minor": 0,
  "metadata": {
    "colab": {
      "provenance": []
    },
    "kernelspec": {
      "name": "python3",
      "display_name": "Python 3"
    },
    "language_info": {
      "name": "python"
    }
  },
  "cells": [
    {
      "cell_type": "markdown",
      "source": [
        "# LOGISTIC REGRESSION MODEL"
      ],
      "metadata": {
        "id": "pxaXW0xErJZ5"
      }
    },
    {
      "cell_type": "code",
      "source": [
        "from sklearn.datasets import make_classification\n",
        "from matplotlib import pyplot as plt\n",
        "from sklearn.linear_model import LogisticRegression\n",
        "from sklearn.model_selection import train_test_split\n",
        "from sklearn.metrics import confusion_matrix\n",
        "import pandas as pd"
      ],
      "metadata": {
        "id": "Cnkg9U1prOMG"
      },
      "execution_count": null,
      "outputs": []
    },
    {
      "cell_type": "code",
      "source": [
        "from google.colab import drive\n",
        "drive.mount('/content/drive')"
      ],
      "metadata": {
        "id": "7jlu3nQZgWcv",
        "colab": {
          "base_uri": "https://localhost:8080/"
        },
        "outputId": "f8ca425b-7f94-4923-a312-f2a2d9879d7c"
      },
      "execution_count": null,
      "outputs": [
        {
          "output_type": "stream",
          "name": "stdout",
          "text": [
            "Mounted at /content/drive\n"
          ]
        }
      ]
    },
    {
      "cell_type": "code",
      "source": [
        "df=pd.read_csv('/content/drive/MyDrive/Bondora_Features_Selection_File.csv')"
      ],
      "metadata": {
        "id": "oesJD5eGg-yf"
      },
      "execution_count": null,
      "outputs": []
    },
    {
      "cell_type": "code",
      "source": [
        "df.head()"
      ],
      "metadata": {
        "id": "yWcutIhohXRL",
        "colab": {
          "base_uri": "https://localhost:8080/",
          "height": 287
        },
        "outputId": "23110fd0-2879-435d-fe79-cd32689b5689"
      },
      "execution_count": null,
      "outputs": [
        {
          "output_type": "execute_result",
          "data": {
            "text/plain": [
              "   Unnamed: 0  BidsPortfolioManager  Interest  MonthlyPayment  Rating  \\\n",
              "0           0                     0      30.0      119.083443       5   \n",
              "1           1                     0      25.0      119.083443       5   \n",
              "2           2                     0      25.0      119.083443       5   \n",
              "3           3                     0      45.0      119.083443       5   \n",
              "4           4                     0      30.0      119.083443       5   \n",
              "\n",
              "   PrincipalPaymentsMade  NoOfPreviousLoansBeforeLoan  PrincipalBalance  \\\n",
              "0               115.0408                            1              0.00   \n",
              "1               140.6057                            2              0.00   \n",
              "2               203.1909                            0            116.35   \n",
              "3                57.5205                            1              0.00   \n",
              "4               319.5436                            1              0.00   \n",
              "\n",
              "   InterestAndPenaltyBalance  AmountOfPreviousLoansBeforeLoan  \\\n",
              "0                       0.00                          83.0852   \n",
              "1                       0.00                         255.6467   \n",
              "2                     414.07                           0.0000   \n",
              "3                       0.00                         134.2144   \n",
              "4                       0.00                         146.9966   \n",
              "\n",
              "   PreviousRepaymentsBeforeLoan  Target  \n",
              "0                        0.0000       0  \n",
              "1                      258.6256       0  \n",
              "2                        0.0000       1  \n",
              "3                        0.0000       0  \n",
              "4                        0.0000       1  "
            ],
            "text/html": [
              "\n",
              "  <div id=\"df-ac58dc42-796d-407c-bea8-91d6d8f16b00\">\n",
              "    <div class=\"colab-df-container\">\n",
              "      <div>\n",
              "<style scoped>\n",
              "    .dataframe tbody tr th:only-of-type {\n",
              "        vertical-align: middle;\n",
              "    }\n",
              "\n",
              "    .dataframe tbody tr th {\n",
              "        vertical-align: top;\n",
              "    }\n",
              "\n",
              "    .dataframe thead th {\n",
              "        text-align: right;\n",
              "    }\n",
              "</style>\n",
              "<table border=\"1\" class=\"dataframe\">\n",
              "  <thead>\n",
              "    <tr style=\"text-align: right;\">\n",
              "      <th></th>\n",
              "      <th>Unnamed: 0</th>\n",
              "      <th>BidsPortfolioManager</th>\n",
              "      <th>Interest</th>\n",
              "      <th>MonthlyPayment</th>\n",
              "      <th>Rating</th>\n",
              "      <th>PrincipalPaymentsMade</th>\n",
              "      <th>NoOfPreviousLoansBeforeLoan</th>\n",
              "      <th>PrincipalBalance</th>\n",
              "      <th>InterestAndPenaltyBalance</th>\n",
              "      <th>AmountOfPreviousLoansBeforeLoan</th>\n",
              "      <th>PreviousRepaymentsBeforeLoan</th>\n",
              "      <th>Target</th>\n",
              "    </tr>\n",
              "  </thead>\n",
              "  <tbody>\n",
              "    <tr>\n",
              "      <th>0</th>\n",
              "      <td>0</td>\n",
              "      <td>0</td>\n",
              "      <td>30.0</td>\n",
              "      <td>119.083443</td>\n",
              "      <td>5</td>\n",
              "      <td>115.0408</td>\n",
              "      <td>1</td>\n",
              "      <td>0.00</td>\n",
              "      <td>0.00</td>\n",
              "      <td>83.0852</td>\n",
              "      <td>0.0000</td>\n",
              "      <td>0</td>\n",
              "    </tr>\n",
              "    <tr>\n",
              "      <th>1</th>\n",
              "      <td>1</td>\n",
              "      <td>0</td>\n",
              "      <td>25.0</td>\n",
              "      <td>119.083443</td>\n",
              "      <td>5</td>\n",
              "      <td>140.6057</td>\n",
              "      <td>2</td>\n",
              "      <td>0.00</td>\n",
              "      <td>0.00</td>\n",
              "      <td>255.6467</td>\n",
              "      <td>258.6256</td>\n",
              "      <td>0</td>\n",
              "    </tr>\n",
              "    <tr>\n",
              "      <th>2</th>\n",
              "      <td>2</td>\n",
              "      <td>0</td>\n",
              "      <td>25.0</td>\n",
              "      <td>119.083443</td>\n",
              "      <td>5</td>\n",
              "      <td>203.1909</td>\n",
              "      <td>0</td>\n",
              "      <td>116.35</td>\n",
              "      <td>414.07</td>\n",
              "      <td>0.0000</td>\n",
              "      <td>0.0000</td>\n",
              "      <td>1</td>\n",
              "    </tr>\n",
              "    <tr>\n",
              "      <th>3</th>\n",
              "      <td>3</td>\n",
              "      <td>0</td>\n",
              "      <td>45.0</td>\n",
              "      <td>119.083443</td>\n",
              "      <td>5</td>\n",
              "      <td>57.5205</td>\n",
              "      <td>1</td>\n",
              "      <td>0.00</td>\n",
              "      <td>0.00</td>\n",
              "      <td>134.2144</td>\n",
              "      <td>0.0000</td>\n",
              "      <td>0</td>\n",
              "    </tr>\n",
              "    <tr>\n",
              "      <th>4</th>\n",
              "      <td>4</td>\n",
              "      <td>0</td>\n",
              "      <td>30.0</td>\n",
              "      <td>119.083443</td>\n",
              "      <td>5</td>\n",
              "      <td>319.5436</td>\n",
              "      <td>1</td>\n",
              "      <td>0.00</td>\n",
              "      <td>0.00</td>\n",
              "      <td>146.9966</td>\n",
              "      <td>0.0000</td>\n",
              "      <td>1</td>\n",
              "    </tr>\n",
              "  </tbody>\n",
              "</table>\n",
              "</div>\n",
              "      <button class=\"colab-df-convert\" onclick=\"convertToInteractive('df-ac58dc42-796d-407c-bea8-91d6d8f16b00')\"\n",
              "              title=\"Convert this dataframe to an interactive table.\"\n",
              "              style=\"display:none;\">\n",
              "        \n",
              "  <svg xmlns=\"http://www.w3.org/2000/svg\" height=\"24px\"viewBox=\"0 0 24 24\"\n",
              "       width=\"24px\">\n",
              "    <path d=\"M0 0h24v24H0V0z\" fill=\"none\"/>\n",
              "    <path d=\"M18.56 5.44l.94 2.06.94-2.06 2.06-.94-2.06-.94-.94-2.06-.94 2.06-2.06.94zm-11 1L8.5 8.5l.94-2.06 2.06-.94-2.06-.94L8.5 2.5l-.94 2.06-2.06.94zm10 10l.94 2.06.94-2.06 2.06-.94-2.06-.94-.94-2.06-.94 2.06-2.06.94z\"/><path d=\"M17.41 7.96l-1.37-1.37c-.4-.4-.92-.59-1.43-.59-.52 0-1.04.2-1.43.59L10.3 9.45l-7.72 7.72c-.78.78-.78 2.05 0 2.83L4 21.41c.39.39.9.59 1.41.59.51 0 1.02-.2 1.41-.59l7.78-7.78 2.81-2.81c.8-.78.8-2.07 0-2.86zM5.41 20L4 18.59l7.72-7.72 1.47 1.35L5.41 20z\"/>\n",
              "  </svg>\n",
              "      </button>\n",
              "      \n",
              "  <style>\n",
              "    .colab-df-container {\n",
              "      display:flex;\n",
              "      flex-wrap:wrap;\n",
              "      gap: 12px;\n",
              "    }\n",
              "\n",
              "    .colab-df-convert {\n",
              "      background-color: #E8F0FE;\n",
              "      border: none;\n",
              "      border-radius: 50%;\n",
              "      cursor: pointer;\n",
              "      display: none;\n",
              "      fill: #1967D2;\n",
              "      height: 32px;\n",
              "      padding: 0 0 0 0;\n",
              "      width: 32px;\n",
              "    }\n",
              "\n",
              "    .colab-df-convert:hover {\n",
              "      background-color: #E2EBFA;\n",
              "      box-shadow: 0px 1px 2px rgba(60, 64, 67, 0.3), 0px 1px 3px 1px rgba(60, 64, 67, 0.15);\n",
              "      fill: #174EA6;\n",
              "    }\n",
              "\n",
              "    [theme=dark] .colab-df-convert {\n",
              "      background-color: #3B4455;\n",
              "      fill: #D2E3FC;\n",
              "    }\n",
              "\n",
              "    [theme=dark] .colab-df-convert:hover {\n",
              "      background-color: #434B5C;\n",
              "      box-shadow: 0px 1px 3px 1px rgba(0, 0, 0, 0.15);\n",
              "      filter: drop-shadow(0px 1px 2px rgba(0, 0, 0, 0.3));\n",
              "      fill: #FFFFFF;\n",
              "    }\n",
              "  </style>\n",
              "\n",
              "      <script>\n",
              "        const buttonEl =\n",
              "          document.querySelector('#df-ac58dc42-796d-407c-bea8-91d6d8f16b00 button.colab-df-convert');\n",
              "        buttonEl.style.display =\n",
              "          google.colab.kernel.accessAllowed ? 'block' : 'none';\n",
              "\n",
              "        async function convertToInteractive(key) {\n",
              "          const element = document.querySelector('#df-ac58dc42-796d-407c-bea8-91d6d8f16b00');\n",
              "          const dataTable =\n",
              "            await google.colab.kernel.invokeFunction('convertToInteractive',\n",
              "                                                     [key], {});\n",
              "          if (!dataTable) return;\n",
              "\n",
              "          const docLinkHtml = 'Like what you see? Visit the ' +\n",
              "            '<a target=\"_blank\" href=https://colab.research.google.com/notebooks/data_table.ipynb>data table notebook</a>'\n",
              "            + ' to learn more about interactive tables.';\n",
              "          element.innerHTML = '';\n",
              "          dataTable['output_type'] = 'display_data';\n",
              "          await google.colab.output.renderOutput(dataTable, element);\n",
              "          const docLink = document.createElement('div');\n",
              "          docLink.innerHTML = docLinkHtml;\n",
              "          element.appendChild(docLink);\n",
              "        }\n",
              "      </script>\n",
              "    </div>\n",
              "  </div>\n",
              "  "
            ]
          },
          "metadata": {},
          "execution_count": 4
        }
      ]
    },
    {
      "cell_type": "code",
      "source": [
        "df.info()"
      ],
      "metadata": {
        "id": "SxH1bXjzh1x-",
        "colab": {
          "base_uri": "https://localhost:8080/"
        },
        "outputId": "894e9066-6efb-4f11-fb0b-bcb00a7b8ee0"
      },
      "execution_count": null,
      "outputs": [
        {
          "output_type": "stream",
          "name": "stdout",
          "text": [
            "<class 'pandas.core.frame.DataFrame'>\n",
            "RangeIndex: 134529 entries, 0 to 134528\n",
            "Data columns (total 12 columns):\n",
            " #   Column                           Non-Null Count   Dtype  \n",
            "---  ------                           --------------   -----  \n",
            " 0   Unnamed: 0                       134529 non-null  int64  \n",
            " 1   BidsPortfolioManager             134529 non-null  int64  \n",
            " 2   Interest                         134529 non-null  float64\n",
            " 3   MonthlyPayment                   134529 non-null  float64\n",
            " 4   Rating                           134529 non-null  int64  \n",
            " 5   PrincipalPaymentsMade            134529 non-null  float64\n",
            " 6   NoOfPreviousLoansBeforeLoan      134529 non-null  int64  \n",
            " 7   PrincipalBalance                 134529 non-null  float64\n",
            " 8   InterestAndPenaltyBalance        134529 non-null  float64\n",
            " 9   AmountOfPreviousLoansBeforeLoan  134529 non-null  float64\n",
            " 10  PreviousRepaymentsBeforeLoan     134529 non-null  float64\n",
            " 11  Target                           134529 non-null  int64  \n",
            "dtypes: float64(7), int64(5)\n",
            "memory usage: 12.3 MB\n"
          ]
        }
      ]
    },
    {
      "cell_type": "code",
      "source": [
        "df.shape"
      ],
      "metadata": {
        "id": "IL6KafLlh4ZK",
        "colab": {
          "base_uri": "https://localhost:8080/"
        },
        "outputId": "29b42b18-14af-4099-c851-5577e389097e"
      },
      "execution_count": null,
      "outputs": [
        {
          "output_type": "execute_result",
          "data": {
            "text/plain": [
              "(134529, 12)"
            ]
          },
          "metadata": {},
          "execution_count": 6
        }
      ]
    },
    {
      "cell_type": "code",
      "source": [
        "df.describe()"
      ],
      "metadata": {
        "id": "hMv1KgOeh9jO",
        "colab": {
          "base_uri": "https://localhost:8080/",
          "height": 364
        },
        "outputId": "1fc84ee8-8d79-4350-992d-ef0643962b20"
      },
      "execution_count": null,
      "outputs": [
        {
          "output_type": "execute_result",
          "data": {
            "text/plain": [
              "          Unnamed: 0  BidsPortfolioManager       Interest  MonthlyPayment  \\\n",
              "count  134529.000000         134529.000000  134529.000000   134529.000000   \n",
              "mean    67264.000000            966.452876      35.889583      119.083443   \n",
              "std     38835.321519           1355.686016      26.288644      111.850802   \n",
              "min         0.000000              0.000000       3.000000        0.000000   \n",
              "25%     33632.000000            155.000000      20.000000       37.380000   \n",
              "50%     67264.000000            465.000000      30.930000      103.100000   \n",
              "75%    100896.000000           1218.000000      40.400000      153.100000   \n",
              "max    134528.000000          10625.000000     264.310000     2368.540000   \n",
              "\n",
              "              Rating  PrincipalPaymentsMade  NoOfPreviousLoansBeforeLoan  \\\n",
              "count  134529.000000          134529.000000                134529.000000   \n",
              "mean        4.169547             761.476162                     1.487620   \n",
              "std         1.910316            1371.557801                     2.396148   \n",
              "min         0.000000               0.000000                     0.000000   \n",
              "25%         3.000000              50.870000                     0.000000   \n",
              "50%         4.000000             208.100000                     1.000000   \n",
              "75%         6.000000             766.410000                     2.000000   \n",
              "max         7.000000           10632.000000                    25.000000   \n",
              "\n",
              "       PrincipalBalance  InterestAndPenaltyBalance  \\\n",
              "count     134529.000000              134529.000000   \n",
              "mean        1769.281104                 701.567107   \n",
              "std         2030.546309                2514.595572   \n",
              "min          -34.200000                  -2.660000   \n",
              "25%          212.820000                   0.000000   \n",
              "50%         1061.990000                   0.000000   \n",
              "75%         2636.330000                 202.900000   \n",
              "max        10632.000000               64494.770000   \n",
              "\n",
              "       AmountOfPreviousLoansBeforeLoan  PreviousRepaymentsBeforeLoan  \\\n",
              "count                    134529.000000                 134529.000000   \n",
              "mean                       2868.652401                    928.395548   \n",
              "std                        4507.046575                   1683.132260   \n",
              "min                           0.000000                      0.000000   \n",
              "25%                           0.000000                     54.790000   \n",
              "50%                         396.354100                    711.240000   \n",
              "75%                        4250.000000                    928.395548   \n",
              "max                       53762.000000                  34077.420000   \n",
              "\n",
              "              Target  \n",
              "count  134529.000000  \n",
              "mean        0.319002  \n",
              "std         0.466091  \n",
              "min         0.000000  \n",
              "25%         0.000000  \n",
              "50%         0.000000  \n",
              "75%         1.000000  \n",
              "max         1.000000  "
            ],
            "text/html": [
              "\n",
              "  <div id=\"df-05809e17-628d-433e-967c-c5414ed143b2\">\n",
              "    <div class=\"colab-df-container\">\n",
              "      <div>\n",
              "<style scoped>\n",
              "    .dataframe tbody tr th:only-of-type {\n",
              "        vertical-align: middle;\n",
              "    }\n",
              "\n",
              "    .dataframe tbody tr th {\n",
              "        vertical-align: top;\n",
              "    }\n",
              "\n",
              "    .dataframe thead th {\n",
              "        text-align: right;\n",
              "    }\n",
              "</style>\n",
              "<table border=\"1\" class=\"dataframe\">\n",
              "  <thead>\n",
              "    <tr style=\"text-align: right;\">\n",
              "      <th></th>\n",
              "      <th>Unnamed: 0</th>\n",
              "      <th>BidsPortfolioManager</th>\n",
              "      <th>Interest</th>\n",
              "      <th>MonthlyPayment</th>\n",
              "      <th>Rating</th>\n",
              "      <th>PrincipalPaymentsMade</th>\n",
              "      <th>NoOfPreviousLoansBeforeLoan</th>\n",
              "      <th>PrincipalBalance</th>\n",
              "      <th>InterestAndPenaltyBalance</th>\n",
              "      <th>AmountOfPreviousLoansBeforeLoan</th>\n",
              "      <th>PreviousRepaymentsBeforeLoan</th>\n",
              "      <th>Target</th>\n",
              "    </tr>\n",
              "  </thead>\n",
              "  <tbody>\n",
              "    <tr>\n",
              "      <th>count</th>\n",
              "      <td>134529.000000</td>\n",
              "      <td>134529.000000</td>\n",
              "      <td>134529.000000</td>\n",
              "      <td>134529.000000</td>\n",
              "      <td>134529.000000</td>\n",
              "      <td>134529.000000</td>\n",
              "      <td>134529.000000</td>\n",
              "      <td>134529.000000</td>\n",
              "      <td>134529.000000</td>\n",
              "      <td>134529.000000</td>\n",
              "      <td>134529.000000</td>\n",
              "      <td>134529.000000</td>\n",
              "    </tr>\n",
              "    <tr>\n",
              "      <th>mean</th>\n",
              "      <td>67264.000000</td>\n",
              "      <td>966.452876</td>\n",
              "      <td>35.889583</td>\n",
              "      <td>119.083443</td>\n",
              "      <td>4.169547</td>\n",
              "      <td>761.476162</td>\n",
              "      <td>1.487620</td>\n",
              "      <td>1769.281104</td>\n",
              "      <td>701.567107</td>\n",
              "      <td>2868.652401</td>\n",
              "      <td>928.395548</td>\n",
              "      <td>0.319002</td>\n",
              "    </tr>\n",
              "    <tr>\n",
              "      <th>std</th>\n",
              "      <td>38835.321519</td>\n",
              "      <td>1355.686016</td>\n",
              "      <td>26.288644</td>\n",
              "      <td>111.850802</td>\n",
              "      <td>1.910316</td>\n",
              "      <td>1371.557801</td>\n",
              "      <td>2.396148</td>\n",
              "      <td>2030.546309</td>\n",
              "      <td>2514.595572</td>\n",
              "      <td>4507.046575</td>\n",
              "      <td>1683.132260</td>\n",
              "      <td>0.466091</td>\n",
              "    </tr>\n",
              "    <tr>\n",
              "      <th>min</th>\n",
              "      <td>0.000000</td>\n",
              "      <td>0.000000</td>\n",
              "      <td>3.000000</td>\n",
              "      <td>0.000000</td>\n",
              "      <td>0.000000</td>\n",
              "      <td>0.000000</td>\n",
              "      <td>0.000000</td>\n",
              "      <td>-34.200000</td>\n",
              "      <td>-2.660000</td>\n",
              "      <td>0.000000</td>\n",
              "      <td>0.000000</td>\n",
              "      <td>0.000000</td>\n",
              "    </tr>\n",
              "    <tr>\n",
              "      <th>25%</th>\n",
              "      <td>33632.000000</td>\n",
              "      <td>155.000000</td>\n",
              "      <td>20.000000</td>\n",
              "      <td>37.380000</td>\n",
              "      <td>3.000000</td>\n",
              "      <td>50.870000</td>\n",
              "      <td>0.000000</td>\n",
              "      <td>212.820000</td>\n",
              "      <td>0.000000</td>\n",
              "      <td>0.000000</td>\n",
              "      <td>54.790000</td>\n",
              "      <td>0.000000</td>\n",
              "    </tr>\n",
              "    <tr>\n",
              "      <th>50%</th>\n",
              "      <td>67264.000000</td>\n",
              "      <td>465.000000</td>\n",
              "      <td>30.930000</td>\n",
              "      <td>103.100000</td>\n",
              "      <td>4.000000</td>\n",
              "      <td>208.100000</td>\n",
              "      <td>1.000000</td>\n",
              "      <td>1061.990000</td>\n",
              "      <td>0.000000</td>\n",
              "      <td>396.354100</td>\n",
              "      <td>711.240000</td>\n",
              "      <td>0.000000</td>\n",
              "    </tr>\n",
              "    <tr>\n",
              "      <th>75%</th>\n",
              "      <td>100896.000000</td>\n",
              "      <td>1218.000000</td>\n",
              "      <td>40.400000</td>\n",
              "      <td>153.100000</td>\n",
              "      <td>6.000000</td>\n",
              "      <td>766.410000</td>\n",
              "      <td>2.000000</td>\n",
              "      <td>2636.330000</td>\n",
              "      <td>202.900000</td>\n",
              "      <td>4250.000000</td>\n",
              "      <td>928.395548</td>\n",
              "      <td>1.000000</td>\n",
              "    </tr>\n",
              "    <tr>\n",
              "      <th>max</th>\n",
              "      <td>134528.000000</td>\n",
              "      <td>10625.000000</td>\n",
              "      <td>264.310000</td>\n",
              "      <td>2368.540000</td>\n",
              "      <td>7.000000</td>\n",
              "      <td>10632.000000</td>\n",
              "      <td>25.000000</td>\n",
              "      <td>10632.000000</td>\n",
              "      <td>64494.770000</td>\n",
              "      <td>53762.000000</td>\n",
              "      <td>34077.420000</td>\n",
              "      <td>1.000000</td>\n",
              "    </tr>\n",
              "  </tbody>\n",
              "</table>\n",
              "</div>\n",
              "      <button class=\"colab-df-convert\" onclick=\"convertToInteractive('df-05809e17-628d-433e-967c-c5414ed143b2')\"\n",
              "              title=\"Convert this dataframe to an interactive table.\"\n",
              "              style=\"display:none;\">\n",
              "        \n",
              "  <svg xmlns=\"http://www.w3.org/2000/svg\" height=\"24px\"viewBox=\"0 0 24 24\"\n",
              "       width=\"24px\">\n",
              "    <path d=\"M0 0h24v24H0V0z\" fill=\"none\"/>\n",
              "    <path d=\"M18.56 5.44l.94 2.06.94-2.06 2.06-.94-2.06-.94-.94-2.06-.94 2.06-2.06.94zm-11 1L8.5 8.5l.94-2.06 2.06-.94-2.06-.94L8.5 2.5l-.94 2.06-2.06.94zm10 10l.94 2.06.94-2.06 2.06-.94-2.06-.94-.94-2.06-.94 2.06-2.06.94z\"/><path d=\"M17.41 7.96l-1.37-1.37c-.4-.4-.92-.59-1.43-.59-.52 0-1.04.2-1.43.59L10.3 9.45l-7.72 7.72c-.78.78-.78 2.05 0 2.83L4 21.41c.39.39.9.59 1.41.59.51 0 1.02-.2 1.41-.59l7.78-7.78 2.81-2.81c.8-.78.8-2.07 0-2.86zM5.41 20L4 18.59l7.72-7.72 1.47 1.35L5.41 20z\"/>\n",
              "  </svg>\n",
              "      </button>\n",
              "      \n",
              "  <style>\n",
              "    .colab-df-container {\n",
              "      display:flex;\n",
              "      flex-wrap:wrap;\n",
              "      gap: 12px;\n",
              "    }\n",
              "\n",
              "    .colab-df-convert {\n",
              "      background-color: #E8F0FE;\n",
              "      border: none;\n",
              "      border-radius: 50%;\n",
              "      cursor: pointer;\n",
              "      display: none;\n",
              "      fill: #1967D2;\n",
              "      height: 32px;\n",
              "      padding: 0 0 0 0;\n",
              "      width: 32px;\n",
              "    }\n",
              "\n",
              "    .colab-df-convert:hover {\n",
              "      background-color: #E2EBFA;\n",
              "      box-shadow: 0px 1px 2px rgba(60, 64, 67, 0.3), 0px 1px 3px 1px rgba(60, 64, 67, 0.15);\n",
              "      fill: #174EA6;\n",
              "    }\n",
              "\n",
              "    [theme=dark] .colab-df-convert {\n",
              "      background-color: #3B4455;\n",
              "      fill: #D2E3FC;\n",
              "    }\n",
              "\n",
              "    [theme=dark] .colab-df-convert:hover {\n",
              "      background-color: #434B5C;\n",
              "      box-shadow: 0px 1px 3px 1px rgba(0, 0, 0, 0.15);\n",
              "      filter: drop-shadow(0px 1px 2px rgba(0, 0, 0, 0.3));\n",
              "      fill: #FFFFFF;\n",
              "    }\n",
              "  </style>\n",
              "\n",
              "      <script>\n",
              "        const buttonEl =\n",
              "          document.querySelector('#df-05809e17-628d-433e-967c-c5414ed143b2 button.colab-df-convert');\n",
              "        buttonEl.style.display =\n",
              "          google.colab.kernel.accessAllowed ? 'block' : 'none';\n",
              "\n",
              "        async function convertToInteractive(key) {\n",
              "          const element = document.querySelector('#df-05809e17-628d-433e-967c-c5414ed143b2');\n",
              "          const dataTable =\n",
              "            await google.colab.kernel.invokeFunction('convertToInteractive',\n",
              "                                                     [key], {});\n",
              "          if (!dataTable) return;\n",
              "\n",
              "          const docLinkHtml = 'Like what you see? Visit the ' +\n",
              "            '<a target=\"_blank\" href=https://colab.research.google.com/notebooks/data_table.ipynb>data table notebook</a>'\n",
              "            + ' to learn more about interactive tables.';\n",
              "          element.innerHTML = '';\n",
              "          dataTable['output_type'] = 'display_data';\n",
              "          await google.colab.output.renderOutput(dataTable, element);\n",
              "          const docLink = document.createElement('div');\n",
              "          docLink.innerHTML = docLinkHtml;\n",
              "          element.appendChild(docLink);\n",
              "        }\n",
              "      </script>\n",
              "    </div>\n",
              "  </div>\n",
              "  "
            ]
          },
          "metadata": {},
          "execution_count": 7
        }
      ]
    },
    {
      "cell_type": "markdown",
      "source": [
        "CHECK MISS VALUES"
      ],
      "metadata": {
        "id": "dVvVE2LQcxkl"
      }
    },
    {
      "cell_type": "code",
      "source": [
        "print(str('Any missing data or NaN in the dataset:'),df.isnull().values.any())"
      ],
      "metadata": {
        "id": "R8Xpfl62iGCf",
        "colab": {
          "base_uri": "https://localhost:8080/"
        },
        "outputId": "93cb3fb6-5927-4b49-e634-3e9efcb4ccc7"
      },
      "execution_count": null,
      "outputs": [
        {
          "output_type": "stream",
          "name": "stdout",
          "text": [
            "Any missing data or NaN in the dataset: False\n"
          ]
        }
      ]
    },
    {
      "cell_type": "code",
      "source": [
        "import seaborn as sns"
      ],
      "metadata": {
        "id": "bl5GowHWibd2"
      },
      "execution_count": null,
      "outputs": []
    },
    {
      "cell_type": "markdown",
      "source": [
        "CORRELATION MAP"
      ],
      "metadata": {
        "id": "qq3Vpv_ec2PN"
      }
    },
    {
      "cell_type": "code",
      "source": [
        "corr_var=df.corr()\n",
        "print(corr_var)\n",
        "plt.figure(figsize=(10,7.5))\n",
        "sns.heatmap(corr_var, annot=True, cmap='BuPu')"
      ],
      "metadata": {
        "id": "RnzYreECiWgi",
        "colab": {
          "base_uri": "https://localhost:8080/",
          "height": 1000
        },
        "outputId": "0b5dcd4f-8bd4-445e-9b6f-c48e6386a52a"
      },
      "execution_count": null,
      "outputs": [
        {
          "output_type": "stream",
          "name": "stdout",
          "text": [
            "                                 Unnamed: 0  BidsPortfolioManager  Interest  \\\n",
            "Unnamed: 0                         1.000000             -0.362972 -0.058840   \n",
            "BidsPortfolioManager              -0.362972              1.000000 -0.066076   \n",
            "Interest                          -0.058840             -0.066076  1.000000   \n",
            "MonthlyPayment                    -0.090296              0.327921  0.249838   \n",
            "Rating                            -0.051880              0.014476  0.684206   \n",
            "PrincipalPaymentsMade             -0.237535              0.479090 -0.091495   \n",
            "NoOfPreviousLoansBeforeLoan        0.049575             -0.135164 -0.298218   \n",
            "PrincipalBalance                   0.275614              0.195994  0.005466   \n",
            "InterestAndPenaltyBalance         -0.168967              0.342716  0.182129   \n",
            "AmountOfPreviousLoansBeforeLoan    0.086134             -0.096871 -0.298889   \n",
            "PreviousRepaymentsBeforeLoan      -0.033452              0.010278 -0.116620   \n",
            "Target                            -0.381901              0.214164  0.233415   \n",
            "\n",
            "                                 MonthlyPayment    Rating  \\\n",
            "Unnamed: 0                            -0.090296 -0.051880   \n",
            "BidsPortfolioManager                   0.327921  0.014476   \n",
            "Interest                               0.249838  0.684206   \n",
            "MonthlyPayment                         1.000000  0.267446   \n",
            "Rating                                 0.267446  1.000000   \n",
            "PrincipalPaymentsMade                  0.262350 -0.017992   \n",
            "NoOfPreviousLoansBeforeLoan           -0.225200 -0.408292   \n",
            "PrincipalBalance                       0.540795  0.086929   \n",
            "InterestAndPenaltyBalance              0.176239  0.223417   \n",
            "AmountOfPreviousLoansBeforeLoan       -0.175168 -0.403207   \n",
            "PreviousRepaymentsBeforeLoan          -0.009448 -0.146964   \n",
            "Target                                 0.107846  0.273581   \n",
            "\n",
            "                                 PrincipalPaymentsMade  \\\n",
            "Unnamed: 0                                   -0.237535   \n",
            "BidsPortfolioManager                          0.479090   \n",
            "Interest                                     -0.091495   \n",
            "MonthlyPayment                                0.262350   \n",
            "Rating                                       -0.017992   \n",
            "PrincipalPaymentsMade                         1.000000   \n",
            "NoOfPreviousLoansBeforeLoan                  -0.108788   \n",
            "PrincipalBalance                             -0.237856   \n",
            "InterestAndPenaltyBalance                    -0.044237   \n",
            "AmountOfPreviousLoansBeforeLoan              -0.076039   \n",
            "PreviousRepaymentsBeforeLoan                  0.043043   \n",
            "Target                                       -0.103564   \n",
            "\n",
            "                                 NoOfPreviousLoansBeforeLoan  \\\n",
            "Unnamed: 0                                          0.049575   \n",
            "BidsPortfolioManager                               -0.135164   \n",
            "Interest                                           -0.298218   \n",
            "MonthlyPayment                                     -0.225200   \n",
            "Rating                                             -0.408292   \n",
            "PrincipalPaymentsMade                              -0.108788   \n",
            "NoOfPreviousLoansBeforeLoan                         1.000000   \n",
            "PrincipalBalance                                   -0.127695   \n",
            "InterestAndPenaltyBalance                          -0.128010   \n",
            "AmountOfPreviousLoansBeforeLoan                     0.795188   \n",
            "PreviousRepaymentsBeforeLoan                        0.240717   \n",
            "Target                                             -0.145937   \n",
            "\n",
            "                                 PrincipalBalance  InterestAndPenaltyBalance  \\\n",
            "Unnamed: 0                               0.275614                  -0.168967   \n",
            "BidsPortfolioManager                     0.195994                   0.342716   \n",
            "Interest                                 0.005466                   0.182129   \n",
            "MonthlyPayment                           0.540795                   0.176239   \n",
            "Rating                                   0.086929                   0.223417   \n",
            "PrincipalPaymentsMade                   -0.237856                  -0.044237   \n",
            "NoOfPreviousLoansBeforeLoan             -0.127695                  -0.128010   \n",
            "PrincipalBalance                         1.000000                   0.241110   \n",
            "InterestAndPenaltyBalance                0.241110                   1.000000   \n",
            "AmountOfPreviousLoansBeforeLoan         -0.060231                  -0.125638   \n",
            "PreviousRepaymentsBeforeLoan            -0.010623                  -0.087508   \n",
            "Target                                   0.069148                   0.398319   \n",
            "\n",
            "                                 AmountOfPreviousLoansBeforeLoan  \\\n",
            "Unnamed: 0                                              0.086134   \n",
            "BidsPortfolioManager                                   -0.096871   \n",
            "Interest                                               -0.298889   \n",
            "MonthlyPayment                                         -0.175168   \n",
            "Rating                                                 -0.403207   \n",
            "PrincipalPaymentsMade                                  -0.076039   \n",
            "NoOfPreviousLoansBeforeLoan                             0.795188   \n",
            "PrincipalBalance                                       -0.060231   \n",
            "InterestAndPenaltyBalance                              -0.125638   \n",
            "AmountOfPreviousLoansBeforeLoan                         1.000000   \n",
            "PreviousRepaymentsBeforeLoan                            0.421791   \n",
            "Target                                                 -0.145492   \n",
            "\n",
            "                                 PreviousRepaymentsBeforeLoan    Target  \n",
            "Unnamed: 0                                          -0.033452 -0.381901  \n",
            "BidsPortfolioManager                                 0.010278  0.214164  \n",
            "Interest                                            -0.116620  0.233415  \n",
            "MonthlyPayment                                      -0.009448  0.107846  \n",
            "Rating                                              -0.146964  0.273581  \n",
            "PrincipalPaymentsMade                                0.043043 -0.103564  \n",
            "NoOfPreviousLoansBeforeLoan                          0.240717 -0.145937  \n",
            "PrincipalBalance                                    -0.010623  0.069148  \n",
            "InterestAndPenaltyBalance                           -0.087508  0.398319  \n",
            "AmountOfPreviousLoansBeforeLoan                      0.421791 -0.145492  \n",
            "PreviousRepaymentsBeforeLoan                         1.000000 -0.077349  \n",
            "Target                                              -0.077349  1.000000  \n"
          ]
        },
        {
          "output_type": "execute_result",
          "data": {
            "text/plain": [
              "<Axes: >"
            ]
          },
          "metadata": {},
          "execution_count": 10
        },
        {
          "output_type": "display_data",
          "data": {
            "text/plain": [
              "<Figure size 1000x750 with 2 Axes>"
            ],
            "image/png": "[encoded data removed]"
          },
          "metadata": {}
        }
      ]
    },
    {
      "cell_type": "code",
      "source": [
        "df.iloc[:,:-1]"
      ],
      "metadata": {
        "id": "3XdF_DjhbiAK",
        "colab": {
          "base_uri": "https://localhost:8080/",
          "height": 505
        },
        "outputId": "c007edf0-46dd-4f1b-d715-c59fe0ecbe96"
      },
      "execution_count": null,
      "outputs": [
        {
          "output_type": "execute_result",
          "data": {
            "text/plain": [
              "        Unnamed: 0  BidsPortfolioManager  Interest  MonthlyPayment  Rating  \\\n",
              "0                0                     0     30.00      119.083443       5   \n",
              "1                1                     0     25.00      119.083443       5   \n",
              "2                2                     0     25.00      119.083443       5   \n",
              "3                3                     0     45.00      119.083443       5   \n",
              "4                4                     0     30.00      119.083443       5   \n",
              "...            ...                   ...       ...             ...     ...   \n",
              "134524      134524                  2515     31.01      107.680000       5   \n",
              "134525      134525                  1880     18.25       85.330000       2   \n",
              "134526      134526                  1975     24.83       80.420000       4   \n",
              "134527      134527                  1840     17.74       84.510000       2   \n",
              "134528      134528                  2990     30.50      106.740000       4   \n",
              "\n",
              "        PrincipalPaymentsMade  NoOfPreviousLoansBeforeLoan  PrincipalBalance  \\\n",
              "0                    115.0408                            1              0.00   \n",
              "1                    140.6057                            2              0.00   \n",
              "2                    203.1909                            0            116.35   \n",
              "3                     57.5205                            1              0.00   \n",
              "4                    319.5436                            1              0.00   \n",
              "...                       ...                          ...               ...   \n",
              "134524              2308.1900                            0              0.00   \n",
              "134525              3000.0000                            1              0.00   \n",
              "134526              1869.7600                            0            630.24   \n",
              "134527              2257.5400                            1              0.00   \n",
              "134528              1473.9100                            1           1526.09   \n",
              "\n",
              "        InterestAndPenaltyBalance  AmountOfPreviousLoansBeforeLoan  \\\n",
              "0                            0.00                          83.0852   \n",
              "1                            0.00                         255.6467   \n",
              "2                          414.07                           0.0000   \n",
              "3                            0.00                         134.2144   \n",
              "4                            0.00                         146.9966   \n",
              "...                           ...                              ...   \n",
              "134524                       0.00                           0.0000   \n",
              "134525                       0.00                        3000.0000   \n",
              "134526                    1227.98                           0.0000   \n",
              "134527                       0.00                         500.0000   \n",
              "134528                    9019.04                        2500.0000   \n",
              "\n",
              "        PreviousRepaymentsBeforeLoan  \n",
              "0                             0.0000  \n",
              "1                           258.6256  \n",
              "2                             0.0000  \n",
              "3                             0.0000  \n",
              "4                             0.0000  \n",
              "...                              ...  \n",
              "134524                        0.0000  \n",
              "134525                      389.3600  \n",
              "134526                        0.0000  \n",
              "134527                       96.8000  \n",
              "134528                      242.6400  \n",
              "\n",
              "[134529 rows x 11 columns]"
            ],
            "text/html": [
              "\n",
              "  <div id=\"df-0954cb14-44eb-4f2c-9916-7b8d7ea12f70\">\n",
              "    <div class=\"colab-df-container\">\n",
              "      <div>\n",
              "<style scoped>\n",
              "    .dataframe tbody tr th:only-of-type {\n",
              "        vertical-align: middle;\n",
              "    }\n",
              "\n",
              "    .dataframe tbody tr th {\n",
              "        vertical-align: top;\n",
              "    }\n",
              "\n",
              "    .dataframe thead th {\n",
              "        text-align: right;\n",
              "    }\n",
              "</style>\n",
              "<table border=\"1\" class=\"dataframe\">\n",
              "  <thead>\n",
              "    <tr style=\"text-align: right;\">\n",
              "      <th></th>\n",
              "      <th>Unnamed: 0</th>\n",
              "      <th>BidsPortfolioManager</th>\n",
              "      <th>Interest</th>\n",
              "      <th>MonthlyPayment</th>\n",
              "      <th>Rating</th>\n",
              "      <th>PrincipalPaymentsMade</th>\n",
              "      <th>NoOfPreviousLoansBeforeLoan</th>\n",
              "      <th>PrincipalBalance</th>\n",
              "      <th>InterestAndPenaltyBalance</th>\n",
              "      <th>AmountOfPreviousLoansBeforeLoan</th>\n",
              "      <th>PreviousRepaymentsBeforeLoan</th>\n",
              "    </tr>\n",
              "  </thead>\n",
              "  <tbody>\n",
              "    <tr>\n",
              "      <th>0</th>\n",
              "      <td>0</td>\n",
              "      <td>0</td>\n",
              "      <td>30.00</td>\n",
              "      <td>119.083443</td>\n",
              "      <td>5</td>\n",
              "      <td>115.0408</td>\n",
              "      <td>1</td>\n",
              "      <td>0.00</td>\n",
              "      <td>0.00</td>\n",
              "      <td>83.0852</td>\n",
              "      <td>0.0000</td>\n",
              "    </tr>\n",
              "    <tr>\n",
              "      <th>1</th>\n",
              "      <td>1</td>\n",
              "      <td>0</td>\n",
              "      <td>25.00</td>\n",
              "      <td>119.083443</td>\n",
              "      <td>5</td>\n",
              "      <td>140.6057</td>\n",
              "      <td>2</td>\n",
              "      <td>0.00</td>\n",
              "      <td>0.00</td>\n",
              "      <td>255.6467</td>\n",
              "      <td>258.6256</td>\n",
              "    </tr>\n",
              "    <tr>\n",
              "      <th>2</th>\n",
              "      <td>2</td>\n",
              "      <td>0</td>\n",
              "      <td>25.00</td>\n",
              "      <td>119.083443</td>\n",
              "      <td>5</td>\n",
              "      <td>203.1909</td>\n",
              "      <td>0</td>\n",
              "      <td>116.35</td>\n",
              "      <td>414.07</td>\n",
              "      <td>0.0000</td>\n",
              "      <td>0.0000</td>\n",
              "    </tr>\n",
              "    <tr>\n",
              "      <th>3</th>\n",
              "      <td>3</td>\n",
              "      <td>0</td>\n",
              "      <td>45.00</td>\n",
              "      <td>119.083443</td>\n",
              "      <td>5</td>\n",
              "      <td>57.5205</td>\n",
              "      <td>1</td>\n",
              "      <td>0.00</td>\n",
              "      <td>0.00</td>\n",
              "      <td>134.2144</td>\n",
              "      <td>0.0000</td>\n",
              "    </tr>\n",
              "    <tr>\n",
              "      <th>4</th>\n",
              "      <td>4</td>\n",
              "      <td>0</td>\n",
              "      <td>30.00</td>\n",
              "      <td>119.083443</td>\n",
              "      <td>5</td>\n",
              "      <td>319.5436</td>\n",
              "      <td>1</td>\n",
              "      <td>0.00</td>\n",
              "      <td>0.00</td>\n",
              "      <td>146.9966</td>\n",
              "      <td>0.0000</td>\n",
              "    </tr>\n",
              "    <tr>\n",
              "      <th>...</th>\n",
              "      <td>...</td>\n",
              "      <td>...</td>\n",
              "      <td>...</td>\n",
              "      <td>...</td>\n",
              "      <td>...</td>\n",
              "      <td>...</td>\n",
              "      <td>...</td>\n",
              "      <td>...</td>\n",
              "      <td>...</td>\n",
              "      <td>...</td>\n",
              "      <td>...</td>\n",
              "    </tr>\n",
              "    <tr>\n",
              "      <th>134524</th>\n",
              "      <td>134524</td>\n",
              "      <td>2515</td>\n",
              "      <td>31.01</td>\n",
              "      <td>107.680000</td>\n",
              "      <td>5</td>\n",
              "      <td>2308.1900</td>\n",
              "      <td>0</td>\n",
              "      <td>0.00</td>\n",
              "      <td>0.00</td>\n",
              "      <td>0.0000</td>\n",
              "      <td>0.0000</td>\n",
              "    </tr>\n",
              "    <tr>\n",
              "      <th>134525</th>\n",
              "      <td>134525</td>\n",
              "      <td>1880</td>\n",
              "      <td>18.25</td>\n",
              "      <td>85.330000</td>\n",
              "      <td>2</td>\n",
              "      <td>3000.0000</td>\n",
              "      <td>1</td>\n",
              "      <td>0.00</td>\n",
              "      <td>0.00</td>\n",
              "      <td>3000.0000</td>\n",
              "      <td>389.3600</td>\n",
              "    </tr>\n",
              "    <tr>\n",
              "      <th>134526</th>\n",
              "      <td>134526</td>\n",
              "      <td>1975</td>\n",
              "      <td>24.83</td>\n",
              "      <td>80.420000</td>\n",
              "      <td>4</td>\n",
              "      <td>1869.7600</td>\n",
              "      <td>0</td>\n",
              "      <td>630.24</td>\n",
              "      <td>1227.98</td>\n",
              "      <td>0.0000</td>\n",
              "      <td>0.0000</td>\n",
              "    </tr>\n",
              "    <tr>\n",
              "      <th>134527</th>\n",
              "      <td>134527</td>\n",
              "      <td>1840</td>\n",
              "      <td>17.74</td>\n",
              "      <td>84.510000</td>\n",
              "      <td>2</td>\n",
              "      <td>2257.5400</td>\n",
              "      <td>1</td>\n",
              "      <td>0.00</td>\n",
              "      <td>0.00</td>\n",
              "      <td>500.0000</td>\n",
              "      <td>96.8000</td>\n",
              "    </tr>\n",
              "    <tr>\n",
              "      <th>134528</th>\n",
              "      <td>134528</td>\n",
              "      <td>2990</td>\n",
              "      <td>30.50</td>\n",
              "      <td>106.740000</td>\n",
              "      <td>4</td>\n",
              "      <td>1473.9100</td>\n",
              "      <td>1</td>\n",
              "      <td>1526.09</td>\n",
              "      <td>9019.04</td>\n",
              "      <td>2500.0000</td>\n",
              "      <td>242.6400</td>\n",
              "    </tr>\n",
              "  </tbody>\n",
              "</table>\n",
              "<p>134529 rows × 11 columns</p>\n",
              "</div>\n",
              "      <button class=\"colab-df-convert\" onclick=\"convertToInteractive('df-0954cb14-44eb-4f2c-9916-7b8d7ea12f70')\"\n",
              "              title=\"Convert this dataframe to an interactive table.\"\n",
              "              style=\"display:none;\">\n",
              "        \n",
              "  <svg xmlns=\"http://www.w3.org/2000/svg\" height=\"24px\"viewBox=\"0 0 24 24\"\n",
              "       width=\"24px\">\n",
              "    <path d=\"M0 0h24v24H0V0z\" fill=\"none\"/>\n",
              "    <path d=\"M18.56 5.44l.94 2.06.94-2.06 2.06-.94-2.06-.94-.94-2.06-.94 2.06-2.06.94zm-11 1L8.5 8.5l.94-2.06 2.06-.94-2.06-.94L8.5 2.5l-.94 2.06-2.06.94zm10 10l.94 2.06.94-2.06 2.06-.94-2.06-.94-.94-2.06-.94 2.06-2.06.94z\"/><path d=\"M17.41 7.96l-1.37-1.37c-.4-.4-.92-.59-1.43-.59-.52 0-1.04.2-1.43.59L10.3 9.45l-7.72 7.72c-.78.78-.78 2.05 0 2.83L4 21.41c.39.39.9.59 1.41.59.51 0 1.02-.2 1.41-.59l7.78-7.78 2.81-2.81c.8-.78.8-2.07 0-2.86zM5.41 20L4 18.59l7.72-7.72 1.47 1.35L5.41 20z\"/>\n",
              "  </svg>\n",
              "      </button>\n",
              "      \n",
              "  <style>\n",
              "    .colab-df-container {\n",
              "      display:flex;\n",
              "      flex-wrap:wrap;\n",
              "      gap: 12px;\n",
              "    }\n",
              "\n",
              "    .colab-df-convert {\n",
              "      background-color: #E8F0FE;\n",
              "      border: none;\n",
              "      border-radius: 50%;\n",
              "      cursor: pointer;\n",
              "      display: none;\n",
              "      fill: #1967D2;\n",
              "      height: 32px;\n",
              "      padding: 0 0 0 0;\n",
              "      width: 32px;\n",
              "    }\n",
              "\n",
              "    .colab-df-convert:hover {\n",
              "      background-color: #E2EBFA;\n",
              "      box-shadow: 0px 1px 2px rgba(60, 64, 67, 0.3), 0px 1px 3px 1px rgba(60, 64, 67, 0.15);\n",
              "      fill: #174EA6;\n",
              "    }\n",
              "\n",
              "    [theme=dark] .colab-df-convert {\n",
              "      background-color: #3B4455;\n",
              "      fill: #D2E3FC;\n",
              "    }\n",
              "\n",
              "    [theme=dark] .colab-df-convert:hover {\n",
              "      background-color: #434B5C;\n",
              "      box-shadow: 0px 1px 3px 1px rgba(0, 0, 0, 0.15);\n",
              "      filter: drop-shadow(0px 1px 2px rgba(0, 0, 0, 0.3));\n",
              "      fill: #FFFFFF;\n",
              "    }\n",
              "  </style>\n",
              "\n",
              "      <script>\n",
              "        const buttonEl =\n",
              "          document.querySelector('#df-0954cb14-44eb-4f2c-9916-7b8d7ea12f70 button.colab-df-convert');\n",
              "        buttonEl.style.display =\n",
              "          google.colab.kernel.accessAllowed ? 'block' : 'none';\n",
              "\n",
              "        async function convertToInteractive(key) {\n",
              "          const element = document.querySelector('#df-0954cb14-44eb-4f2c-9916-7b8d7ea12f70');\n",
              "          const dataTable =\n",
              "            await google.colab.kernel.invokeFunction('convertToInteractive',\n",
              "                                                     [key], {});\n",
              "          if (!dataTable) return;\n",
              "\n",
              "          const docLinkHtml = 'Like what you see? Visit the ' +\n",
              "            '<a target=\"_blank\" href=https://colab.research.google.com/notebooks/data_table.ipynb>data table notebook</a>'\n",
              "            + ' to learn more about interactive tables.';\n",
              "          element.innerHTML = '';\n",
              "          dataTable['output_type'] = 'display_data';\n",
              "          await google.colab.output.renderOutput(dataTable, element);\n",
              "          const docLink = document.createElement('div');\n",
              "          docLink.innerHTML = docLinkHtml;\n",
              "          element.appendChild(docLink);\n",
              "        }\n",
              "      </script>\n",
              "    </div>\n",
              "  </div>\n",
              "  "
            ]
          },
          "metadata": {},
          "execution_count": 11
        }
      ]
    },
    {
      "cell_type": "code",
      "source": [
        "df=df.drop('Unnamed: 0',axis=1)"
      ],
      "metadata": {
        "id": "A8ASWSQKbxnP"
      },
      "execution_count": null,
      "outputs": []
    },
    {
      "cell_type": "code",
      "source": [
        "df.iloc[:,:-1]"
      ],
      "metadata": {
        "id": "vGkA-QHHb6hV",
        "colab": {
          "base_uri": "https://localhost:8080/",
          "height": 487
        },
        "outputId": "065b26bc-1c2e-4a49-c8a9-01d39e345524"
      },
      "execution_count": null,
      "outputs": [
        {
          "output_type": "execute_result",
          "data": {
            "text/plain": [
              "        BidsPortfolioManager  Interest  MonthlyPayment  Rating  \\\n",
              "0                          0     30.00      119.083443       5   \n",
              "1                          0     25.00      119.083443       5   \n",
              "2                          0     25.00      119.083443       5   \n",
              "3                          0     45.00      119.083443       5   \n",
              "4                          0     30.00      119.083443       5   \n",
              "...                      ...       ...             ...     ...   \n",
              "134524                  2515     31.01      107.680000       5   \n",
              "134525                  1880     18.25       85.330000       2   \n",
              "134526                  1975     24.83       80.420000       4   \n",
              "134527                  1840     17.74       84.510000       2   \n",
              "134528                  2990     30.50      106.740000       4   \n",
              "\n",
              "        PrincipalPaymentsMade  NoOfPreviousLoansBeforeLoan  PrincipalBalance  \\\n",
              "0                    115.0408                            1              0.00   \n",
              "1                    140.6057                            2              0.00   \n",
              "2                    203.1909                            0            116.35   \n",
              "3                     57.5205                            1              0.00   \n",
              "4                    319.5436                            1              0.00   \n",
              "...                       ...                          ...               ...   \n",
              "134524              2308.1900                            0              0.00   \n",
              "134525              3000.0000                            1              0.00   \n",
              "134526              1869.7600                            0            630.24   \n",
              "134527              2257.5400                            1              0.00   \n",
              "134528              1473.9100                            1           1526.09   \n",
              "\n",
              "        InterestAndPenaltyBalance  AmountOfPreviousLoansBeforeLoan  \\\n",
              "0                            0.00                          83.0852   \n",
              "1                            0.00                         255.6467   \n",
              "2                          414.07                           0.0000   \n",
              "3                            0.00                         134.2144   \n",
              "4                            0.00                         146.9966   \n",
              "...                           ...                              ...   \n",
              "134524                       0.00                           0.0000   \n",
              "134525                       0.00                        3000.0000   \n",
              "134526                    1227.98                           0.0000   \n",
              "134527                       0.00                         500.0000   \n",
              "134528                    9019.04                        2500.0000   \n",
              "\n",
              "        PreviousRepaymentsBeforeLoan  \n",
              "0                             0.0000  \n",
              "1                           258.6256  \n",
              "2                             0.0000  \n",
              "3                             0.0000  \n",
              "4                             0.0000  \n",
              "...                              ...  \n",
              "134524                        0.0000  \n",
              "134525                      389.3600  \n",
              "134526                        0.0000  \n",
              "134527                       96.8000  \n",
              "134528                      242.6400  \n",
              "\n",
              "[134529 rows x 10 columns]"
            ],
            "text/html": [
              "\n",
              "  <div id=\"df-590e88dd-8d09-454f-8b06-47599ee41668\">\n",
              "    <div class=\"colab-df-container\">\n",
              "      <div>\n",
              "<style scoped>\n",
              "    .dataframe tbody tr th:only-of-type {\n",
              "        vertical-align: middle;\n",
              "    }\n",
              "\n",
              "    .dataframe tbody tr th {\n",
              "        vertical-align: top;\n",
              "    }\n",
              "\n",
              "    .dataframe thead th {\n",
              "        text-align: right;\n",
              "    }\n",
              "</style>\n",
              "<table border=\"1\" class=\"dataframe\">\n",
              "  <thead>\n",
              "    <tr style=\"text-align: right;\">\n",
              "      <th></th>\n",
              "      <th>BidsPortfolioManager</th>\n",
              "      <th>Interest</th>\n",
              "      <th>MonthlyPayment</th>\n",
              "      <th>Rating</th>\n",
              "      <th>PrincipalPaymentsMade</th>\n",
              "      <th>NoOfPreviousLoansBeforeLoan</th>\n",
              "      <th>PrincipalBalance</th>\n",
              "      <th>InterestAndPenaltyBalance</th>\n",
              "      <th>AmountOfPreviousLoansBeforeLoan</th>\n",
              "      <th>PreviousRepaymentsBeforeLoan</th>\n",
              "    </tr>\n",
              "  </thead>\n",
              "  <tbody>\n",
              "    <tr>\n",
              "      <th>0</th>\n",
              "      <td>0</td>\n",
              "      <td>30.00</td>\n",
              "      <td>119.083443</td>\n",
              "      <td>5</td>\n",
              "      <td>115.0408</td>\n",
              "      <td>1</td>\n",
              "      <td>0.00</td>\n",
              "      <td>0.00</td>\n",
              "      <td>83.0852</td>\n",
              "      <td>0.0000</td>\n",
              "    </tr>\n",
              "    <tr>\n",
              "      <th>1</th>\n",
              "      <td>0</td>\n",
              "      <td>25.00</td>\n",
              "      <td>119.083443</td>\n",
              "      <td>5</td>\n",
              "      <td>140.6057</td>\n",
              "      <td>2</td>\n",
              "      <td>0.00</td>\n",
              "      <td>0.00</td>\n",
              "      <td>255.6467</td>\n",
              "      <td>258.6256</td>\n",
              "    </tr>\n",
              "    <tr>\n",
              "      <th>2</th>\n",
              "      <td>0</td>\n",
              "      <td>25.00</td>\n",
              "      <td>119.083443</td>\n",
              "      <td>5</td>\n",
              "      <td>203.1909</td>\n",
              "      <td>0</td>\n",
              "      <td>116.35</td>\n",
              "      <td>414.07</td>\n",
              "      <td>0.0000</td>\n",
              "      <td>0.0000</td>\n",
              "    </tr>\n",
              "    <tr>\n",
              "      <th>3</th>\n",
              "      <td>0</td>\n",
              "      <td>45.00</td>\n",
              "      <td>119.083443</td>\n",
              "      <td>5</td>\n",
              "      <td>57.5205</td>\n",
              "      <td>1</td>\n",
              "      <td>0.00</td>\n",
              "      <td>0.00</td>\n",
              "      <td>134.2144</td>\n",
              "      <td>0.0000</td>\n",
              "    </tr>\n",
              "    <tr>\n",
              "      <th>4</th>\n",
              "      <td>0</td>\n",
              "      <td>30.00</td>\n",
              "      <td>119.083443</td>\n",
              "      <td>5</td>\n",
              "      <td>319.5436</td>\n",
              "      <td>1</td>\n",
              "      <td>0.00</td>\n",
              "      <td>0.00</td>\n",
              "      <td>146.9966</td>\n",
              "      <td>0.0000</td>\n",
              "    </tr>\n",
              "    <tr>\n",
              "      <th>...</th>\n",
              "      <td>...</td>\n",
              "      <td>...</td>\n",
              "      <td>...</td>\n",
              "      <td>...</td>\n",
              "      <td>...</td>\n",
              "      <td>...</td>\n",
              "      <td>...</td>\n",
              "      <td>...</td>\n",
              "      <td>...</td>\n",
              "      <td>...</td>\n",
              "    </tr>\n",
              "    <tr>\n",
              "      <th>134524</th>\n",
              "      <td>2515</td>\n",
              "      <td>31.01</td>\n",
              "      <td>107.680000</td>\n",
              "      <td>5</td>\n",
              "      <td>2308.1900</td>\n",
              "      <td>0</td>\n",
              "      <td>0.00</td>\n",
              "      <td>0.00</td>\n",
              "      <td>0.0000</td>\n",
              "      <td>0.0000</td>\n",
              "    </tr>\n",
              "    <tr>\n",
              "      <th>134525</th>\n",
              "      <td>1880</td>\n",
              "      <td>18.25</td>\n",
              "      <td>85.330000</td>\n",
              "      <td>2</td>\n",
              "      <td>3000.0000</td>\n",
              "      <td>1</td>\n",
              "      <td>0.00</td>\n",
              "      <td>0.00</td>\n",
              "      <td>3000.0000</td>\n",
              "      <td>389.3600</td>\n",
              "    </tr>\n",
              "    <tr>\n",
              "      <th>134526</th>\n",
              "      <td>1975</td>\n",
              "      <td>24.83</td>\n",
              "      <td>80.420000</td>\n",
              "      <td>4</td>\n",
              "      <td>1869.7600</td>\n",
              "      <td>0</td>\n",
              "      <td>630.24</td>\n",
              "      <td>1227.98</td>\n",
              "      <td>0.0000</td>\n",
              "      <td>0.0000</td>\n",
              "    </tr>\n",
              "    <tr>\n",
              "      <th>134527</th>\n",
              "      <td>1840</td>\n",
              "      <td>17.74</td>\n",
              "      <td>84.510000</td>\n",
              "      <td>2</td>\n",
              "      <td>2257.5400</td>\n",
              "      <td>1</td>\n",
              "      <td>0.00</td>\n",
              "      <td>0.00</td>\n",
              "      <td>500.0000</td>\n",
              "      <td>96.8000</td>\n",
              "    </tr>\n",
              "    <tr>\n",
              "      <th>134528</th>\n",
              "      <td>2990</td>\n",
              "      <td>30.50</td>\n",
              "      <td>106.740000</td>\n",
              "      <td>4</td>\n",
              "      <td>1473.9100</td>\n",
              "      <td>1</td>\n",
              "      <td>1526.09</td>\n",
              "      <td>9019.04</td>\n",
              "      <td>2500.0000</td>\n",
              "      <td>242.6400</td>\n",
              "    </tr>\n",
              "  </tbody>\n",
              "</table>\n",
              "<p>134529 rows × 10 columns</p>\n",
              "</div>\n",
              "      <button class=\"colab-df-convert\" onclick=\"convertToInteractive('df-590e88dd-8d09-454f-8b06-47599ee41668')\"\n",
              "              title=\"Convert this dataframe to an interactive table.\"\n",
              "              style=\"display:none;\">\n",
              "        \n",
              "  <svg xmlns=\"http://www.w3.org/2000/svg\" height=\"24px\"viewBox=\"0 0 24 24\"\n",
              "       width=\"24px\">\n",
              "    <path d=\"M0 0h24v24H0V0z\" fill=\"none\"/>\n",
              "    <path d=\"M18.56 5.44l.94 2.06.94-2.06 2.06-.94-2.06-.94-.94-2.06-.94 2.06-2.06.94zm-11 1L8.5 8.5l.94-2.06 2.06-.94-2.06-.94L8.5 2.5l-.94 2.06-2.06.94zm10 10l.94 2.06.94-2.06 2.06-.94-2.06-.94-.94-2.06-.94 2.06-2.06.94z\"/><path d=\"M17.41 7.96l-1.37-1.37c-.4-.4-.92-.59-1.43-.59-.52 0-1.04.2-1.43.59L10.3 9.45l-7.72 7.72c-.78.78-.78 2.05 0 2.83L4 21.41c.39.39.9.59 1.41.59.51 0 1.02-.2 1.41-.59l7.78-7.78 2.81-2.81c.8-.78.8-2.07 0-2.86zM5.41 20L4 18.59l7.72-7.72 1.47 1.35L5.41 20z\"/>\n",
              "  </svg>\n",
              "      </button>\n",
              "      \n",
              "  <style>\n",
              "    .colab-df-container {\n",
              "      display:flex;\n",
              "      flex-wrap:wrap;\n",
              "      gap: 12px;\n",
              "    }\n",
              "\n",
              "    .colab-df-convert {\n",
              "      background-color: #E8F0FE;\n",
              "      border: none;\n",
              "      border-radius: 50%;\n",
              "      cursor: pointer;\n",
              "      display: none;\n",
              "      fill: #1967D2;\n",
              "      height: 32px;\n",
              "      padding: 0 0 0 0;\n",
              "      width: 32px;\n",
              "    }\n",
              "\n",
              "    .colab-df-convert:hover {\n",
              "      background-color: #E2EBFA;\n",
              "      box-shadow: 0px 1px 2px rgba(60, 64, 67, 0.3), 0px 1px 3px 1px rgba(60, 64, 67, 0.15);\n",
              "      fill: #174EA6;\n",
              "    }\n",
              "\n",
              "    [theme=dark] .colab-df-convert {\n",
              "      background-color: #3B4455;\n",
              "      fill: #D2E3FC;\n",
              "    }\n",
              "\n",
              "    [theme=dark] .colab-df-convert:hover {\n",
              "      background-color: #434B5C;\n",
              "      box-shadow: 0px 1px 3px 1px rgba(0, 0, 0, 0.15);\n",
              "      filter: drop-shadow(0px 1px 2px rgba(0, 0, 0, 0.3));\n",
              "      fill: #FFFFFF;\n",
              "    }\n",
              "  </style>\n",
              "\n",
              "      <script>\n",
              "        const buttonEl =\n",
              "          document.querySelector('#df-590e88dd-8d09-454f-8b06-47599ee41668 button.colab-df-convert');\n",
              "        buttonEl.style.display =\n",
              "          google.colab.kernel.accessAllowed ? 'block' : 'none';\n",
              "\n",
              "        async function convertToInteractive(key) {\n",
              "          const element = document.querySelector('#df-590e88dd-8d09-454f-8b06-47599ee41668');\n",
              "          const dataTable =\n",
              "            await google.colab.kernel.invokeFunction('convertToInteractive',\n",
              "                                                     [key], {});\n",
              "          if (!dataTable) return;\n",
              "\n",
              "          const docLinkHtml = 'Like what you see? Visit the ' +\n",
              "            '<a target=\"_blank\" href=https://colab.research.google.com/notebooks/data_table.ipynb>data table notebook</a>'\n",
              "            + ' to learn more about interactive tables.';\n",
              "          element.innerHTML = '';\n",
              "          dataTable['output_type'] = 'display_data';\n",
              "          await google.colab.output.renderOutput(dataTable, element);\n",
              "          const docLink = document.createElement('div');\n",
              "          docLink.innerHTML = docLinkHtml;\n",
              "          element.appendChild(docLink);\n",
              "        }\n",
              "      </script>\n",
              "    </div>\n",
              "  </div>\n",
              "  "
            ]
          },
          "metadata": {},
          "execution_count": 13
        }
      ]
    },
    {
      "cell_type": "code",
      "source": [
        "df.iloc[:,-1]"
      ],
      "metadata": {
        "colab": {
          "base_uri": "https://localhost:8080/"
        },
        "id": "arrhX9xkdo_c",
        "outputId": "7a77203a-01dc-4700-c221-6f098cbb5481"
      },
      "execution_count": null,
      "outputs": [
        {
          "output_type": "execute_result",
          "data": {
            "text/plain": [
              "0         0\n",
              "1         0\n",
              "2         1\n",
              "3         0\n",
              "4         1\n",
              "         ..\n",
              "134524    1\n",
              "134525    0\n",
              "134526    1\n",
              "134527    1\n",
              "134528    1\n",
              "Name: Target, Length: 134529, dtype: int64"
            ]
          },
          "metadata": {},
          "execution_count": 14
        }
      ]
    },
    {
      "cell_type": "markdown",
      "source": [
        "DATA SLICES INTO X AND Y"
      ],
      "metadata": {
        "id": "C1eFkCYSc_Sa"
      }
    },
    {
      "cell_type": "code",
      "source": [
        "df.columns"
      ],
      "metadata": {
        "colab": {
          "base_uri": "https://localhost:8080/"
        },
        "id": "33jLNrGqb9d2",
        "outputId": "17d66b35-4a9b-4f4c-e250-3c8ba78415f4"
      },
      "execution_count": null,
      "outputs": [
        {
          "output_type": "execute_result",
          "data": {
            "text/plain": [
              "Index(['BidsPortfolioManager', 'Interest', 'MonthlyPayment', 'Rating',\n",
              "       'PrincipalPaymentsMade', 'NoOfPreviousLoansBeforeLoan',\n",
              "       'PrincipalBalance', 'InterestAndPenaltyBalance',\n",
              "       'AmountOfPreviousLoansBeforeLoan', 'PreviousRepaymentsBeforeLoan',\n",
              "       'Target'],\n",
              "      dtype='object')"
            ]
          },
          "metadata": {},
          "execution_count": 15
        }
      ]
    },
    {
      "cell_type": "code",
      "source": [
        "X = df.iloc[:,:-1].values\n",
        "y = df.iloc[:,-1].values"
      ],
      "metadata": {
        "id": "x4cDkGzPb99i"
      },
      "execution_count": null,
      "outputs": []
    },
    {
      "cell_type": "code",
      "source": [
        "X.shape"
      ],
      "metadata": {
        "colab": {
          "base_uri": "https://localhost:8080/"
        },
        "id": "6kViqYtycutM",
        "outputId": "c1df50cd-16f0-4861-ea53-8b33293fb7ec"
      },
      "execution_count": null,
      "outputs": [
        {
          "output_type": "execute_result",
          "data": {
            "text/plain": [
              "(134529, 10)"
            ]
          },
          "metadata": {},
          "execution_count": 17
        }
      ]
    },
    {
      "cell_type": "code",
      "source": [
        "y.shape"
      ],
      "metadata": {
        "colab": {
          "base_uri": "https://localhost:8080/"
        },
        "id": "YG_36exkc1gQ",
        "outputId": "4682f7f9-ecb5-48b3-9f53-ee82dbaeef4e"
      },
      "execution_count": null,
      "outputs": [
        {
          "output_type": "execute_result",
          "data": {
            "text/plain": [
              "(134529,)"
            ]
          },
          "metadata": {},
          "execution_count": 18
        }
      ]
    },
    {
      "cell_type": "code",
      "source": [
        "import seaborn as sns\n",
        "sns.countplot(x='Target',data=df,palette='hls')"
      ],
      "metadata": {
        "id": "dSVn8bcrd5Mk",
        "colab": {
          "base_uri": "https://localhost:8080/",
          "height": 466
        },
        "outputId": "593369e7-f3df-450f-e93e-55121909eb8a"
      },
      "execution_count": null,
      "outputs": [
        {
          "output_type": "execute_result",
          "data": {
            "text/plain": [
              "<Axes: xlabel='Target', ylabel='count'>"
            ]
          },
          "metadata": {},
          "execution_count": 19
        },
        {
          "output_type": "display_data",
          "data": {
            "text/plain": [
              "<Figure size 640x480 with 1 Axes>"
            ],
            "image/png": "[encoded data removed]"
          },
          "metadata": {}
        }
      ]
    },
    {
      "cell_type": "markdown",
      "source": [
        "PERFORM TRAIN TEST SPLIT IN 80 TO 20 RATIO"
      ],
      "metadata": {
        "id": "GhEbzTOTdDgw"
      }
    },
    {
      "cell_type": "code",
      "source": [
        "from sklearn.model_selection import train_test_split\n",
        "import numpy as np\n",
        "X_train, X_test, y_train, y_test = train_test_split (X, y, test_size=0.2, random_state=0)\n",
        "print('Total no. of samples: Training and Testing dataset separately!')\n",
        "print('X_train:', np.shape(X_train))\n",
        "print('y_train:', np.shape(y_train))\n",
        "print('X_test:', np.shape(X_test))\n",
        "print('y_test:', np.shape(y_test))"
      ],
      "metadata": {
        "id": "rPOsHU2ciyb9",
        "colab": {
          "base_uri": "https://localhost:8080/"
        },
        "outputId": "f7961813-8cee-4e7f-cccb-e3130059a840"
      },
      "execution_count": null,
      "outputs": [
        {
          "output_type": "stream",
          "name": "stdout",
          "text": [
            "Total no. of samples: Training and Testing dataset separately!\n",
            "X_train: (107623, 10)\n",
            "y_train: (107623,)\n",
            "X_test: (26906, 10)\n",
            "y_test: (26906,)\n"
          ]
        }
      ]
    },
    {
      "cell_type": "markdown",
      "source": [
        "SCALING THE DATA"
      ],
      "metadata": {
        "id": "joYt0CSpdLZI"
      }
    },
    {
      "cell_type": "code",
      "source": [
        "from sklearn.preprocessing import StandardScaler\n",
        "sc = StandardScaler()\n",
        "X_train = sc.fit_transform(X_train)\n",
        "X_test = sc.transform(X_test)"
      ],
      "metadata": {
        "id": "ckVoKvsrjAaC"
      },
      "execution_count": null,
      "outputs": []
    },
    {
      "cell_type": "markdown",
      "source": [
        "IMPORT LOGISTIC REGRESSION"
      ],
      "metadata": {
        "id": "wM45ZhGJdPKm"
      }
    },
    {
      "cell_type": "code",
      "source": [
        "from sklearn.linear_model import LogisticRegression\n",
        "model = LogisticRegression(random_state=0)\n",
        "model.fit(X_train,y_train)"
      ],
      "metadata": {
        "id": "5OWSFJM7jFvS",
        "colab": {
          "base_uri": "https://localhost:8080/",
          "height": 74
        },
        "outputId": "26e726e5-d3bd-4f1d-e603-f0bbd9df9eb6"
      },
      "execution_count": null,
      "outputs": [
        {
          "output_type": "execute_result",
          "data": {
            "text/plain": [
              "LogisticRegression(random_state=0)"
            ],
            "text/html": [
              "<style>#sk-container-id-2 {color: black;background-color: white;}#sk-container-id-2 pre{padding: 0;}#sk-container-id-2 div.sk-toggleable {background-color: white;}#sk-container-id-2 label.sk-toggleable__label {cursor: pointer;display: block;width: 100%;margin-bottom: 0;padding: 0.3em;box-sizing: border-box;text-align: center;}#sk-container-id-2 label.sk-toggleable__label-arrow:before {content: \"▸\";float: left;margin-right: 0.25em;color: #696969;}#sk-container-id-2 label.sk-toggleable__label-arrow:hover:before {color: black;}#sk-container-id-2 div.sk-estimator:hover label.sk-toggleable__label-arrow:before {color: black;}#sk-container-id-2 div.sk-toggleable__content {max-height: 0;max-width: 0;overflow: hidden;text-align: left;background-color: #f0f8ff;}#sk-container-id-2 div.sk-toggleable__content pre {margin: 0.2em;color: black;border-radius: 0.25em;background-color: #f0f8ff;}#sk-container-id-2 input.sk-toggleable__control:checked~div.sk-toggleable__content {max-height: 200px;max-width: 100%;overflow: auto;}#sk-container-id-2 input.sk-toggleable__control:checked~label.sk-toggleable__label-arrow:before {content: \"▾\";}#sk-container-id-2 div.sk-estimator input.sk-toggleable__control:checked~label.sk-toggleable__label {background-color: #d4ebff;}#sk-container-id-2 div.sk-label input.sk-toggleable__control:checked~label.sk-toggleable__label {background-color: #d4ebff;}#sk-container-id-2 input.sk-hidden--visually {border: 0;clip: rect(1px 1px 1px 1px);clip: rect(1px, 1px, 1px, 1px);height: 1px;margin: -1px;overflow: hidden;padding: 0;position: absolute;width: 1px;}#sk-container-id-2 div.sk-estimator {font-family: monospace;background-color: #f0f8ff;border: 1px dotted black;border-radius: 0.25em;box-sizing: border-box;margin-bottom: 0.5em;}#sk-container-id-2 div.sk-estimator:hover {background-color: #d4ebff;}#sk-container-id-2 div.sk-parallel-item::after {content: \"\";width: 100%;border-bottom: 1px solid gray;flex-grow: 1;}#sk-container-id-2 div.sk-label:hover label.sk-toggleable__label {background-color: #d4ebff;}#sk-container-id-2 div.sk-serial::before {content: \"\";position: absolute;border-left: 1px solid gray;box-sizing: border-box;top: 0;bottom: 0;left: 50%;z-index: 0;}#sk-container-id-2 div.sk-serial {display: flex;flex-direction: column;align-items: center;background-color: white;padding-right: 0.2em;padding-left: 0.2em;position: relative;}#sk-container-id-2 div.sk-item {position: relative;z-index: 1;}#sk-container-id-2 div.sk-parallel {display: flex;align-items: stretch;justify-content: center;background-color: white;position: relative;}#sk-container-id-2 div.sk-item::before, #sk-container-id-2 div.sk-parallel-item::before {content: \"\";position: absolute;border-left: 1px solid gray;box-sizing: border-box;top: 0;bottom: 0;left: 50%;z-index: -1;}#sk-container-id-2 div.sk-parallel-item {display: flex;flex-direction: column;z-index: 1;position: relative;background-color: white;}#sk-container-id-2 div.sk-parallel-item:first-child::after {align-self: flex-end;width: 50%;}#sk-container-id-2 div.sk-parallel-item:last-child::after {align-self: flex-start;width: 50%;}#sk-container-id-2 div.sk-parallel-item:only-child::after {width: 0;}#sk-container-id-2 div.sk-dashed-wrapped {border: 1px dashed gray;margin: 0 0.4em 0.5em 0.4em;box-sizing: border-box;padding-bottom: 0.4em;background-color: white;}#sk-container-id-2 div.sk-label label {font-family: monospace;font-weight: bold;display: inline-block;line-height: 1.2em;}#sk-container-id-2 div.sk-label-container {text-align: center;}#sk-container-id-2 div.sk-container {/* jupyter's `normalize.less` sets `[hidden] { display: none; }` but bootstrap.min.css set `[hidden] { display: none !important; }` so we also need the `!important` here to be able to override the default hidden behavior on the sphinx rendered scikit-learn.org. See: https://github.com/scikit-learn/scikit-learn/issues/21755 */display: inline-block !important;position: relative;}#sk-container-id-2 div.sk-text-repr-fallback {display: none;}</style><div id=\"sk-container-id-2\" class=\"sk-top-container\"><div class=\"sk-text-repr-fallback\"><pre>LogisticRegression(random_state=0)</pre><b>In a Jupyter environment, please rerun this cell to show the HTML representation or trust the notebook. <br />On GitHub, the HTML representation is unable to render, please try loading this page with nbviewer.org.</b></div><div class=\"sk-container\" hidden><div class=\"sk-item\"><div class=\"sk-estimator sk-toggleable\"><input class=\"sk-toggleable__control sk-hidden--visually\" id=\"sk-estimator-id-2\" type=\"checkbox\" checked><label for=\"sk-estimator-id-2\" class=\"sk-toggleable__label sk-toggleable__label-arrow\">LogisticRegression</label><div class=\"sk-toggleable__content\"><pre>LogisticRegression(random_state=0)</pre></div></div></div></div></div>"
            ]
          },
          "metadata": {},
          "execution_count": 39
        }
      ]
    },
    {
      "cell_type": "code",
      "source": [
        "parameters = model.coef_\n",
        "print(parameters)"
      ],
      "metadata": {
        "colab": {
          "base_uri": "https://localhost:8080/"
        },
        "id": "OQjFH9dind0F",
        "outputId": "7cec5c0f-60fc-4919-b389-4cdf06042e77"
      },
      "execution_count": null,
      "outputs": [
        {
          "output_type": "stream",
          "name": "stdout",
          "text": [
            "[[ 8.52801062e-01 -2.92857879e-01 -2.38034329e-02  2.45977857e-01\n",
            "  -8.06294674e-01 -7.65502679e-02 -3.61065013e+00  4.62107113e+01\n",
            "   8.43951268e-02 -8.47494614e-02]]\n"
          ]
        }
      ]
    },
    {
      "cell_type": "markdown",
      "source": [
        "PREDICTING THE VALUES WITH MODEL"
      ],
      "metadata": {
        "id": "qs7ctfSAkT-X"
      }
    },
    {
      "cell_type": "code",
      "source": [
        "y_pred = model.predict(X_test)\n",
        "print(np.concatenate((y_pred.reshape(len(y_pred),1), y_test.reshape(len(y_test),1)),1))"
      ],
      "metadata": {
        "id": "KQ9DNax2kVki",
        "colab": {
          "base_uri": "https://localhost:8080/"
        },
        "outputId": "bc139c20-fb0d-4edf-c316-bc03e12233df"
      },
      "execution_count": null,
      "outputs": [
        {
          "output_type": "stream",
          "name": "stdout",
          "text": [
            "[[0 0]\n",
            " [0 0]\n",
            " [0 0]\n",
            " ...\n",
            " [0 1]\n",
            " [0 0]\n",
            " [1 1]]\n"
          ]
        }
      ]
    },
    {
      "cell_type": "markdown",
      "source": [
        "CHECKING PREDICATED AND EXPECTED VALUES"
      ],
      "metadata": {
        "id": "pZ67qaWEj-hj"
      }
    },
    {
      "cell_type": "markdown",
      "source": [
        "Y_TEST= EXPECTED VALUE\n",
        "Y_PRED= PREDICTED VALUE"
      ],
      "metadata": {
        "id": "I3kWA39ikFyo"
      }
    },
    {
      "cell_type": "code",
      "source": [
        "from sklearn.metrics import confusion_matrix, accuracy_score, roc_auc_score\n",
        "cm = confusion_matrix(y_test, y_pred)\n",
        "print(cm)"
      ],
      "metadata": {
        "id": "wR5i6cuzkitD",
        "colab": {
          "base_uri": "https://localhost:8080/"
        },
        "outputId": "7fd9a73d-5f05-4225-aff3-e8139726f5b5"
      },
      "execution_count": null,
      "outputs": [
        {
          "output_type": "stream",
          "name": "stdout",
          "text": [
            "[[18212   132]\n",
            " [ 1953  6609]]\n"
          ]
        }
      ]
    },
    {
      "cell_type": "markdown",
      "source": [
        "CONFUSION MATRIX"
      ],
      "metadata": {
        "id": "99KPSqDCdUez"
      }
    },
    {
      "cell_type": "code",
      "source": [
        "from mlxtend.plotting import plot_confusion_matrix\n",
        "fig, ax = plot_confusion_matrix(conf_mat=cm, figsize=(6, 6), cmap=plt.cm.Greens)\n",
        "plt.xlabel('Predictions', fontsize=18)\n",
        "plt.ylabel('Actuals', fontsize=18)\n",
        "plt.title('Confusion Matrix', fontsize=18)\n",
        "plt.show()"
      ],
      "metadata": {
        "id": "IeXYe7h0krPS",
        "colab": {
          "base_uri": "https://localhost:8080/",
          "height": 579
        },
        "outputId": "29015949-b34a-4b35-8144-e431f37844b5"
      },
      "execution_count": null,
      "outputs": [
        {
          "output_type": "display_data",
          "data": {
            "text/plain": [
              "<Figure size 600x600 with 1 Axes>"
            ],
            "image/png": "[encoded data removed]"
          },
          "metadata": {}
        }
      ]
    },
    {
      "cell_type": "markdown",
      "source": [
        "ACCURRACY OF MODEL"
      ],
      "metadata": {
        "id": "I5IgyaHZdXpq"
      }
    },
    {
      "cell_type": "code",
      "source": [
        "logreg=accuracy_score(y_test,y_pred)\n",
        "logreg"
      ],
      "metadata": {
        "id": "54jmU1U0kzol",
        "colab": {
          "base_uri": "https://localhost:8080/"
        },
        "outputId": "43f40c27-9098-4236-bbac-5330b9f7e40c"
      },
      "execution_count": null,
      "outputs": [
        {
          "output_type": "execute_result",
          "data": {
            "text/plain": [
              "0.922507990782725"
            ]
          },
          "metadata": {},
          "execution_count": 26
        }
      ]
    },
    {
      "cell_type": "code",
      "source": [
        "from sklearn.metrics._plot.confusion_matrix import confusion_matrix\n",
        "import matplotlib.pyplot as plt\n",
        "import seaborn as sns\n",
        "cm=confusion_matrix(y_test,y_pred)\n",
        "plt.figure(figsize=(5,5))\n",
        "sns.heatmap(data=cm,linewidths=.5, annot=True,square = True,  cmap = 'Reds')\n",
        "plt.ylabel('Actual label')\n",
        "plt.xlabel('Predicted label')\n",
        "all_sample_title = 'Accuracy Score: {0}'.format(model.score(X_test, y_test))\n",
        "plt.title(all_sample_title, size = 15)"
      ],
      "metadata": {
        "colab": {
          "base_uri": "https://localhost:8080/",
          "height": 444
        },
        "id": "ZjjfhOVnb_5x",
        "outputId": "63a609e8-d500-4196-fd12-ef18c04cee63"
      },
      "execution_count": null,
      "outputs": [
        {
          "output_type": "execute_result",
          "data": {
            "text/plain": [
              "Text(0.5, 1.0, 'Accuracy Score: 0.922507990782725')"
            ]
          },
          "metadata": {},
          "execution_count": 43
        },
        {
          "output_type": "display_data",
          "data": {
            "text/plain": [
              "<Figure size 500x500 with 2 Axes>"
            ],
            "image/png": "[encoded data removed]"
          },
          "metadata": {}
        }
      ]
    },
    {
      "cell_type": "markdown",
      "source": [
        "ROC-AUC SCORE"
      ],
      "metadata": {
        "id": "InjZn0oNmoby"
      }
    },
    {
      "cell_type": "code",
      "source": [
        "roc_auc_score(y_test, y_pred)"
      ],
      "metadata": {
        "id": "k1pYzc5ak44n",
        "colab": {
          "base_uri": "https://localhost:8080/"
        },
        "outputId": "4cac1431-87ac-4847-f8a2-d9a18fa4e725"
      },
      "execution_count": null,
      "outputs": [
        {
          "output_type": "execute_result",
          "data": {
            "text/plain": [
              "0.8823516378264674"
            ]
          },
          "metadata": {},
          "execution_count": 27
        }
      ]
    },
    {
      "cell_type": "markdown",
      "source": [
        "ROC CURVE"
      ],
      "metadata": {
        "id": "s3CFOxTHg2YL"
      }
    },
    {
      "cell_type": "code",
      "source": [
        "import matplotlib.pyplot as plt\n",
        "from sklearn import metrics\n",
        "#define metrics\n",
        "y_pred = model.predict_proba(X_test)[::,1]\n",
        "fpr, tpr, _ = metrics.roc_curve(y_test,  y_pred)\n",
        "\n",
        "#create ROC curve\n",
        "plt.plot(fpr,tpr)\n",
        "plt.ylabel('True Positive Rate')\n",
        "plt.xlabel('False Positive Rate')\n",
        "plt.show()"
      ],
      "metadata": {
        "colab": {
          "base_uri": "https://localhost:8080/",
          "height": 449
        },
        "id": "uzUh-Hyifhld",
        "outputId": "bfef2281-da30-48c1-872c-a7530d189621"
      },
      "execution_count": null,
      "outputs": [
        {
          "output_type": "display_data",
          "data": {
            "text/plain": [
              "<Figure size 640x480 with 1 Axes>"
            ],
            "image/png": "[encoded data removed]"
          },
          "metadata": {}
        }
      ]
    },
    {
      "cell_type": "markdown",
      "source": [
        "AREA UNDER CURVE"
      ],
      "metadata": {
        "id": "5g_DBcfYhbCd"
      }
    },
    {
      "cell_type": "code",
      "source": [
        "#define metrics\n",
        "y_pred = model.predict_proba(X_test)[::,1]\n",
        "fpr, tpr, _ = metrics.roc_curve(y_test,  y_pred)\n",
        "auc = metrics.roc_auc_score(y_test, y_pred)\n",
        "\n",
        "#create ROC curve\n",
        "plt.plot(fpr,tpr,label=\"AUC=\"+str(auc))\n",
        "plt.ylabel('True Positive Rate')\n",
        "plt.xlabel('False Positive Rate')\n",
        "plt.legend(loc=4)\n",
        "plt.show()"
      ],
      "metadata": {
        "colab": {
          "base_uri": "https://localhost:8080/",
          "height": 449
        },
        "id": "g5qQKnASg0d9",
        "outputId": "eb981424-a22a-4125-8492-cd6849d065ee"
      },
      "execution_count": null,
      "outputs": [
        {
          "output_type": "display_data",
          "data": {
            "text/plain": [
              "<Figure size 640x480 with 1 Axes>"
            ],
            "image/png": "[encoded data removed]"
          },
          "metadata": {}
        }
      ]
    },
    {
      "cell_type": "markdown",
      "source": [
        "CLASSIFICATION REPORT"
      ],
      "metadata": {
        "id": "DVzaiScdgj29"
      }
    },
    {
      "cell_type": "code",
      "source": [
        "import sklearn.metrics as metrics\n",
        "print(metrics.classification_report(y_test, y_pred))"
      ],
      "metadata": {
        "id": "Bf7OrLHYk7w7",
        "colab": {
          "base_uri": "https://localhost:8080/"
        },
        "outputId": "7e3beb9e-f516-4271-a03e-e5b3ab57b72c"
      },
      "execution_count": null,
      "outputs": [
        {
          "output_type": "stream",
          "name": "stdout",
          "text": [
            "              precision    recall  f1-score   support\n",
            "\n",
            "           0       0.90      0.99      0.95     18344\n",
            "           1       0.98      0.77      0.86      8562\n",
            "\n",
            "    accuracy                           0.92     26906\n",
            "   macro avg       0.94      0.88      0.90     26906\n",
            "weighted avg       0.93      0.92      0.92     26906\n",
            "\n"
          ]
        }
      ]
    },
    {
      "cell_type": "markdown",
      "source": [
        "ELIGIBILITY OF MODELS"
      ],
      "metadata": {
        "id": "VXcz55FXlc5R"
      }
    },
    {
      "cell_type": "code",
      "source": [
        "import numpy as np\n",
        "import matplotlib.pyplot as plt\n",
        "import pandas as pd\n",
        "\n",
        "if __name__ == \"__main__\":\n",
        "\n",
        "\n",
        "    # X = feature values, all the columns except the last column\n",
        "    X = df.iloc[:, :-1]\n",
        "\n",
        "    # y = target values, last column of the data frame\n",
        "    y = df.iloc[:, -1]\n",
        "\n",
        "    # filter out the applicants that got admitted\n",
        "    admitted = df.loc[y == 1]\n",
        "\n",
        "    # filter out the applicants that din't get admission\n",
        "    not_admitted = df.loc[y == 0]\n",
        "\n",
        "    # plots\n",
        "    plt.scatter(admitted.iloc[:, 0], admitted.iloc[:, 1], s=10, label='NOT ELIGIBLE')\n",
        "    plt.scatter(not_admitted.iloc[:, 0], not_admitted.iloc[:, 1], s=10, label=' ELIGIBLE')\n",
        "    plt.legend()\n",
        "    plt.show()"
      ],
      "metadata": {
        "colab": {
          "base_uri": "https://localhost:8080/",
          "height": 430
        },
        "id": "T9j579YRibIV",
        "outputId": "fb36f0cc-8aea-4ea9-c2cf-5f08bf4a2049"
      },
      "execution_count": null,
      "outputs": [
        {
          "output_type": "display_data",
          "data": {
            "text/plain": [
              "<Figure size 640x480 with 1 Axes>"
            ],
            "image/png": "[encoded data removed]"
          },
          "metadata": {}
        }
      ]
    },
    {
      "cell_type": "markdown",
      "source": [
        "HYPERPARAMTER TUNING"
      ],
      "metadata": {
        "id": "intL3JpHyng7"
      }
    },
    {
      "cell_type": "markdown",
      "source": [
        "REGULARIZATION"
      ],
      "metadata": {
        "id": "HITx1LpXhhPf"
      }
    },
    {
      "cell_type": "code",
      "source": [
        "from sklearn.model_selection import GridSearchCV\n",
        "parameters_lr = [{'penalty':['l1','l2'],'C': [0.001, 0.01, 0.1, 1, 10, 100, 1000]}]\n",
        "grid_search_lr = GridSearchCV(estimator = model,\n",
        "                           param_grid = parameters_lr,\n",
        "                           scoring = 'accuracy',\n",
        "                           cv = 10,\n",
        "                           n_jobs = -1)\n",
        "grid_search_lr.fit(X_train, y_train)\n",
        "best_accuracy_lr = grid_search_lr.best_score_\n",
        "best_paramaeter_lr = grid_search_lr.best_params_\n",
        "print(\"Best Accuracy of LR: {:.2f} %\".format(best_accuracy_lr.mean()*100))\n",
        "print(\"Best Parameter of LR:\", best_paramaeter_lr)"
      ],
      "metadata": {
        "id": "BoWi2k7FtLuw",
        "colab": {
          "base_uri": "https://localhost:8080/"
        },
        "outputId": "76b0de49-f0c0-4063-8d81-979df0ba8145"
      },
      "execution_count": null,
      "outputs": [
        {
          "output_type": "stream",
          "name": "stderr",
          "text": [
            "/usr/local/lib/python3.10/dist-packages/sklearn/model_selection/_validation.py:378: FitFailedWarning: \n",
            "70 fits failed out of a total of 140.\n",
            "The score on these train-test partitions for these parameters will be set to nan.\n",
            "If these failures are not expected, you can try to debug them by setting error_score='raise'.\n",
            "\n",
            "Below are more details about the failures:\n",
            "--------------------------------------------------------------------------------\n",
            "70 fits failed with the following error:\n",
            "Traceback (most recent call last):\n",
            "  File \"/usr/local/lib/python3.10/dist-packages/sklearn/model_selection/_validation.py\", line 686, in _fit_and_score\n",
            "    estimator.fit(X_train, y_train, **fit_params)\n",
            "  File \"/usr/local/lib/python3.10/dist-packages/sklearn/linear_model/_logistic.py\", line 1162, in fit\n",
            "    solver = _check_solver(self.solver, self.penalty, self.dual)\n",
            "  File \"/usr/local/lib/python3.10/dist-packages/sklearn/linear_model/_logistic.py\", line 54, in _check_solver\n",
            "    raise ValueError(\n",
            "ValueError: Solver lbfgs supports only 'l2' or 'none' penalties, got l1 penalty.\n",
            "\n",
            "  warnings.warn(some_fits_failed_message, FitFailedWarning)\n",
            "/usr/local/lib/python3.10/dist-packages/sklearn/model_selection/_search.py:952: UserWarning: One or more of the test scores are non-finite: [       nan 0.83830598        nan 0.87605814        nan 0.90659991\n",
            "        nan 0.91959898        nan 0.92404971        nan 0.92467225\n",
            "        nan 0.92473729]\n",
            "  warnings.warn(\n"
          ]
        },
        {
          "output_type": "stream",
          "name": "stdout",
          "text": [
            "Best Accuracy of LR: 92.47 %\n",
            "Best Parameter of LR: {'C': 1000, 'penalty': 'l2'}\n"
          ]
        }
      ]
    },
    {
      "cell_type": "code",
      "source": [
        "# re-training the Logistic Regression Classifier with the best hyper-parameter, C = 10\n",
        "model = LogisticRegression(C = 12).fit(X_train, y_train)"
      ],
      "metadata": {
        "id": "quD8fJXzo-WM"
      },
      "execution_count": null,
      "outputs": []
    },
    {
      "cell_type": "code",
      "source": [
        "# getting the Training Set Predictions\n",
        "y_train_pred = model.predict(X_train)\n",
        "\n",
        "# getting the Test Set Predictions\n",
        "y_test_pred = model.predict(X_test)"
      ],
      "metadata": {
        "id": "sz2_mDFHpXN1"
      },
      "execution_count": null,
      "outputs": []
    },
    {
      "cell_type": "code",
      "source": [
        "# Getting the Training and Test Accuracy of the Logistic Regression Model\n",
        "print('Training Accuracy of the Model: ', metrics.accuracy_score(y_train, y_train_pred))\n",
        "print('Test Accuracy of the Model: ', metrics.accuracy_score(y_test, y_test_pred))\n",
        "print()\n",
        "\n",
        "# Getting the Training and Test Precision of the Logistic Regression Model\n",
        "print('Training Precision of the Model: ', metrics.precision_score(y_train, y_train_pred))\n",
        "print('Test Precision of the Model: ', metrics.precision_score(y_test, y_test_pred))\n",
        "print()\n",
        "\n",
        "# Getting the Training and Test Recall of the Logistic Regression Model\n",
        "print('Training Recall of the Model: ', metrics.recall_score(y_train, y_train_pred))\n",
        "print('Test Recall of the Model: ', metrics.recall_score(y_test, y_test_pred))\n",
        "print()\n",
        "\n",
        "# Getting the Training and Test F1-Score of the Logistic Regression Model\n",
        "print('Training F1-Score of the Model: ', metrics.f1_score(y_train, y_train_pred))\n",
        "print('Test F1-Score of the Model: ', metrics.f1_score(y_test, y_test_pred))\n",
        "print()"
      ],
      "metadata": {
        "colab": {
          "base_uri": "https://localhost:8080/"
        },
        "id": "6uj73WhHpkUM",
        "outputId": "ddee5dc3-e34e-46b7-9a09-b0f89cbd9967"
      },
      "execution_count": null,
      "outputs": [
        {
          "output_type": "stream",
          "name": "stdout",
          "text": [
            "Training Accuracy of the Model:  0.9241983590868122\n",
            "Test Accuracy of the Model:  0.9264476324983275\n",
            "\n",
            "Training Precision of the Model:  0.9773663301381347\n",
            "Test Precision of the Model:  0.979740562600204\n",
            "\n",
            "Training Recall of the Model:  0.7806014030797892\n",
            "Test Recall of the Model:  0.7850969399672973\n",
            "\n",
            "Training F1-Score of the Model:  0.867972163780547\n",
            "Test F1-Score of the Model:  0.8716851455618232\n",
            "\n"
          ]
        }
      ]
    },
    {
      "cell_type": "code",
      "source": [
        "import sklearn.metrics as metrics\n",
        "print(metrics.classification_report(y_test, y_test_pred))"
      ],
      "metadata": {
        "colab": {
          "base_uri": "https://localhost:8080/"
        },
        "id": "5S_6p4XJx_dK",
        "outputId": "c8e1f3c1-6ace-4d17-b742-111737b1b713"
      },
      "execution_count": null,
      "outputs": [
        {
          "output_type": "stream",
          "name": "stdout",
          "text": [
            "              precision    recall  f1-score   support\n",
            "\n",
            "           0       0.91      0.99      0.95     18344\n",
            "           1       0.98      0.79      0.87      8562\n",
            "\n",
            "    accuracy                           0.93     26906\n",
            "   macro avg       0.94      0.89      0.91     26906\n",
            "weighted avg       0.93      0.93      0.92     26906\n",
            "\n"
          ]
        }
      ]
    },
    {
      "cell_type": "code",
      "source": [
        "model.intercept_"
      ],
      "metadata": {
        "colab": {
          "base_uri": "https://localhost:8080/"
        },
        "id": "eTKB7JMyyO24",
        "outputId": "84b93ef9-3798-4297-bfbf-8dfa8a27a5ea"
      },
      "execution_count": null,
      "outputs": [
        {
          "output_type": "execute_result",
          "data": {
            "text/plain": [
              "array([-0.06911689])"
            ]
          },
          "metadata": {},
          "execution_count": 76
        }
      ]
    },
    {
      "cell_type": "code",
      "source": [
        "model.coef_"
      ],
      "metadata": {
        "colab": {
          "base_uri": "https://localhost:8080/"
        },
        "id": "YYqbfdYXyg89",
        "outputId": "7c31a8ac-5401-4be7-bc00-b6f142dab585"
      },
      "execution_count": null,
      "outputs": [
        {
          "output_type": "execute_result",
          "data": {
            "text/plain": [
              "array([[ 5.99867588e-04, -1.59642786e-02, -5.87394085e-04,\n",
              "        -1.87199421e-02, -6.54044272e-04, -1.17780666e-01,\n",
              "        -2.58647402e-03,  2.60007797e-02,  1.83715413e-05,\n",
              "        -8.96453317e-05]])"
            ]
          },
          "metadata": {},
          "execution_count": 77
        }
      ]
    },
    {
      "cell_type": "code",
      "source": [
        "roc_auc_score(y_test, y_test_pred)"
      ],
      "metadata": {
        "colab": {
          "base_uri": "https://localhost:8080/"
        },
        "id": "0rX14Qq49kIn",
        "outputId": "469d18fc-2a18-4037-92b7-a77af54977b5"
      },
      "execution_count": null,
      "outputs": [
        {
          "output_type": "execute_result",
          "data": {
            "text/plain": [
              "0.8887597652300507"
            ]
          },
          "metadata": {},
          "execution_count": 96
        }
      ]
    },
    {
      "cell_type": "code",
      "source": [
        "import numpy as np\n"
      ],
      "metadata": {
        "id": "v_fFwmDz2S7v"
      },
      "execution_count": null,
      "outputs": []
    },
    {
      "cell_type": "code",
      "source": [
        "df.head()"
      ],
      "metadata": {
        "colab": {
          "base_uri": "https://localhost:8080/",
          "height": 270
        },
        "id": "qiSmB09R7zJv",
        "outputId": "1106c9be-7ede-4f8e-b750-01231f17dee8"
      },
      "execution_count": null,
      "outputs": [
        {
          "output_type": "execute_result",
          "data": {
            "text/plain": [
              "   BidsPortfolioManager  Interest  MonthlyPayment  Rating  \\\n",
              "0                     0      30.0      119.083443       5   \n",
              "1                     0      25.0      119.083443       5   \n",
              "2                     0      25.0      119.083443       5   \n",
              "3                     0      45.0      119.083443       5   \n",
              "4                     0      30.0      119.083443       5   \n",
              "\n",
              "   PrincipalPaymentsMade  NoOfPreviousLoansBeforeLoan  PrincipalBalance  \\\n",
              "0               115.0408                            1              0.00   \n",
              "1               140.6057                            2              0.00   \n",
              "2               203.1909                            0            116.35   \n",
              "3                57.5205                            1              0.00   \n",
              "4               319.5436                            1              0.00   \n",
              "\n",
              "   InterestAndPenaltyBalance  AmountOfPreviousLoansBeforeLoan  \\\n",
              "0                       0.00                          83.0852   \n",
              "1                       0.00                         255.6467   \n",
              "2                     414.07                           0.0000   \n",
              "3                       0.00                         134.2144   \n",
              "4                       0.00                         146.9966   \n",
              "\n",
              "   PreviousRepaymentsBeforeLoan  Target  \n",
              "0                        0.0000       0  \n",
              "1                      258.6256       0  \n",
              "2                        0.0000       1  \n",
              "3                        0.0000       0  \n",
              "4                        0.0000       1  "
            ],
            "text/html": [
              "\n",
              "  <div id=\"df-b1ed2959-60d5-4d74-bd89-cb5b9c1fdd10\">\n",
              "    <div class=\"colab-df-container\">\n",
              "      <div>\n",
              "<style scoped>\n",
              "    .dataframe tbody tr th:only-of-type {\n",
              "        vertical-align: middle;\n",
              "    }\n",
              "\n",
              "    .dataframe tbody tr th {\n",
              "        vertical-align: top;\n",
              "    }\n",
              "\n",
              "    .dataframe thead th {\n",
              "        text-align: right;\n",
              "    }\n",
              "</style>\n",
              "<table border=\"1\" class=\"dataframe\">\n",
              "  <thead>\n",
              "    <tr style=\"text-align: right;\">\n",
              "      <th></th>\n",
              "      <th>BidsPortfolioManager</th>\n",
              "      <th>Interest</th>\n",
              "      <th>MonthlyPayment</th>\n",
              "      <th>Rating</th>\n",
              "      <th>PrincipalPaymentsMade</th>\n",
              "      <th>NoOfPreviousLoansBeforeLoan</th>\n",
              "      <th>PrincipalBalance</th>\n",
              "      <th>InterestAndPenaltyBalance</th>\n",
              "      <th>AmountOfPreviousLoansBeforeLoan</th>\n",
              "      <th>PreviousRepaymentsBeforeLoan</th>\n",
              "      <th>Target</th>\n",
              "    </tr>\n",
              "  </thead>\n",
              "  <tbody>\n",
              "    <tr>\n",
              "      <th>0</th>\n",
              "      <td>0</td>\n",
              "      <td>30.0</td>\n",
              "      <td>119.083443</td>\n",
              "      <td>5</td>\n",
              "      <td>115.0408</td>\n",
              "      <td>1</td>\n",
              "      <td>0.00</td>\n",
              "      <td>0.00</td>\n",
              "      <td>83.0852</td>\n",
              "      <td>0.0000</td>\n",
              "      <td>0</td>\n",
              "    </tr>\n",
              "    <tr>\n",
              "      <th>1</th>\n",
              "      <td>0</td>\n",
              "      <td>25.0</td>\n",
              "      <td>119.083443</td>\n",
              "      <td>5</td>\n",
              "      <td>140.6057</td>\n",
              "      <td>2</td>\n",
              "      <td>0.00</td>\n",
              "      <td>0.00</td>\n",
              "      <td>255.6467</td>\n",
              "      <td>258.6256</td>\n",
              "      <td>0</td>\n",
              "    </tr>\n",
              "    <tr>\n",
              "      <th>2</th>\n",
              "      <td>0</td>\n",
              "      <td>25.0</td>\n",
              "      <td>119.083443</td>\n",
              "      <td>5</td>\n",
              "      <td>203.1909</td>\n",
              "      <td>0</td>\n",
              "      <td>116.35</td>\n",
              "      <td>414.07</td>\n",
              "      <td>0.0000</td>\n",
              "      <td>0.0000</td>\n",
              "      <td>1</td>\n",
              "    </tr>\n",
              "    <tr>\n",
              "      <th>3</th>\n",
              "      <td>0</td>\n",
              "      <td>45.0</td>\n",
              "      <td>119.083443</td>\n",
              "      <td>5</td>\n",
              "      <td>57.5205</td>\n",
              "      <td>1</td>\n",
              "      <td>0.00</td>\n",
              "      <td>0.00</td>\n",
              "      <td>134.2144</td>\n",
              "      <td>0.0000</td>\n",
              "      <td>0</td>\n",
              "    </tr>\n",
              "    <tr>\n",
              "      <th>4</th>\n",
              "      <td>0</td>\n",
              "      <td>30.0</td>\n",
              "      <td>119.083443</td>\n",
              "      <td>5</td>\n",
              "      <td>319.5436</td>\n",
              "      <td>1</td>\n",
              "      <td>0.00</td>\n",
              "      <td>0.00</td>\n",
              "      <td>146.9966</td>\n",
              "      <td>0.0000</td>\n",
              "      <td>1</td>\n",
              "    </tr>\n",
              "  </tbody>\n",
              "</table>\n",
              "</div>\n",
              "      <button class=\"colab-df-convert\" onclick=\"convertToInteractive('df-b1ed2959-60d5-4d74-bd89-cb5b9c1fdd10')\"\n",
              "              title=\"Convert this dataframe to an interactive table.\"\n",
              "              style=\"display:none;\">\n",
              "        \n",
              "  <svg xmlns=\"http://www.w3.org/2000/svg\" height=\"24px\"viewBox=\"0 0 24 24\"\n",
              "       width=\"24px\">\n",
              "    <path d=\"M0 0h24v24H0V0z\" fill=\"none\"/>\n",
              "    <path d=\"M18.56 5.44l.94 2.06.94-2.06 2.06-.94-2.06-.94-.94-2.06-.94 2.06-2.06.94zm-11 1L8.5 8.5l.94-2.06 2.06-.94-2.06-.94L8.5 2.5l-.94 2.06-2.06.94zm10 10l.94 2.06.94-2.06 2.06-.94-2.06-.94-.94-2.06-.94 2.06-2.06.94z\"/><path d=\"M17.41 7.96l-1.37-1.37c-.4-.4-.92-.59-1.43-.59-.52 0-1.04.2-1.43.59L10.3 9.45l-7.72 7.72c-.78.78-.78 2.05 0 2.83L4 21.41c.39.39.9.59 1.41.59.51 0 1.02-.2 1.41-.59l7.78-7.78 2.81-2.81c.8-.78.8-2.07 0-2.86zM5.41 20L4 18.59l7.72-7.72 1.47 1.35L5.41 20z\"/>\n",
              "  </svg>\n",
              "      </button>\n",
              "      \n",
              "  <style>\n",
              "    .colab-df-container {\n",
              "      display:flex;\n",
              "      flex-wrap:wrap;\n",
              "      gap: 12px;\n",
              "    }\n",
              "\n",
              "    .colab-df-convert {\n",
              "      background-color: #E8F0FE;\n",
              "      border: none;\n",
              "      border-radius: 50%;\n",
              "      cursor: pointer;\n",
              "      display: none;\n",
              "      fill: #1967D2;\n",
              "      height: 32px;\n",
              "      padding: 0 0 0 0;\n",
              "      width: 32px;\n",
              "    }\n",
              "\n",
              "    .colab-df-convert:hover {\n",
              "      background-color: #E2EBFA;\n",
              "      box-shadow: 0px 1px 2px rgba(60, 64, 67, 0.3), 0px 1px 3px 1px rgba(60, 64, 67, 0.15);\n",
              "      fill: #174EA6;\n",
              "    }\n",
              "\n",
              "    [theme=dark] .colab-df-convert {\n",
              "      background-color: #3B4455;\n",
              "      fill: #D2E3FC;\n",
              "    }\n",
              "\n",
              "    [theme=dark] .colab-df-convert:hover {\n",
              "      background-color: #434B5C;\n",
              "      box-shadow: 0px 1px 3px 1px rgba(0, 0, 0, 0.15);\n",
              "      filter: drop-shadow(0px 1px 2px rgba(0, 0, 0, 0.3));\n",
              "      fill: #FFFFFF;\n",
              "    }\n",
              "  </style>\n",
              "\n",
              "      <script>\n",
              "        const buttonEl =\n",
              "          document.querySelector('#df-b1ed2959-60d5-4d74-bd89-cb5b9c1fdd10 button.colab-df-convert');\n",
              "        buttonEl.style.display =\n",
              "          google.colab.kernel.accessAllowed ? 'block' : 'none';\n",
              "\n",
              "        async function convertToInteractive(key) {\n",
              "          const element = document.querySelector('#df-b1ed2959-60d5-4d74-bd89-cb5b9c1fdd10');\n",
              "          const dataTable =\n",
              "            await google.colab.kernel.invokeFunction('convertToInteractive',\n",
              "                                                     [key], {});\n",
              "          if (!dataTable) return;\n",
              "\n",
              "          const docLinkHtml = 'Like what you see? Visit the ' +\n",
              "            '<a target=\"_blank\" href=https://colab.research.google.com/notebooks/data_table.ipynb>data table notebook</a>'\n",
              "            + ' to learn more about interactive tables.';\n",
              "          element.innerHTML = '';\n",
              "          dataTable['output_type'] = 'display_data';\n",
              "          await google.colab.output.renderOutput(dataTable, element);\n",
              "          const docLink = document.createElement('div');\n",
              "          docLink.innerHTML = docLinkHtml;\n",
              "          element.appendChild(docLink);\n",
              "        }\n",
              "      </script>\n",
              "    </div>\n",
              "  </div>\n",
              "  "
            ]
          },
          "metadata": {},
          "execution_count": 89
        }
      ]
    },
    {
      "cell_type": "code",
      "source": [
        "df.columns"
      ],
      "metadata": {
        "id": "49dKvAwllGhk",
        "colab": {
          "base_uri": "https://localhost:8080/"
        },
        "outputId": "6fe90bbe-c678-4683-be3b-a5bfdbb39f6a"
      },
      "execution_count": null,
      "outputs": [
        {
          "output_type": "execute_result",
          "data": {
            "text/plain": [
              "Index(['BidsPortfolioManager', 'Interest', 'MonthlyPayment', 'Rating',\n",
              "       'PrincipalPaymentsMade', 'NoOfPreviousLoansBeforeLoan',\n",
              "       'PrincipalBalance', 'InterestAndPenaltyBalance',\n",
              "       'AmountOfPreviousLoansBeforeLoan', 'PreviousRepaymentsBeforeLoan',\n",
              "       'Target'],\n",
              "      dtype='object')"
            ]
          },
          "metadata": {},
          "execution_count": 30
        }
      ]
    },
    {
      "cell_type": "code",
      "source": [
        "df.head()"
      ],
      "metadata": {
        "id": "YsOt5Ctbmn9f",
        "colab": {
          "base_uri": "https://localhost:8080/",
          "height": 270
        },
        "outputId": "e418639b-41bd-49b9-efa8-eb893967c5d4"
      },
      "execution_count": null,
      "outputs": [
        {
          "output_type": "execute_result",
          "data": {
            "text/plain": [
              "   BidsPortfolioManager  Interest  MonthlyPayment  Rating  \\\n",
              "0                     0      30.0      119.083443       5   \n",
              "1                     0      25.0      119.083443       5   \n",
              "2                     0      25.0      119.083443       5   \n",
              "3                     0      45.0      119.083443       5   \n",
              "4                     0      30.0      119.083443       5   \n",
              "\n",
              "   PrincipalPaymentsMade  NoOfPreviousLoansBeforeLoan  PrincipalBalance  \\\n",
              "0               115.0408                            1              0.00   \n",
              "1               140.6057                            2              0.00   \n",
              "2               203.1909                            0            116.35   \n",
              "3                57.5205                            1              0.00   \n",
              "4               319.5436                            1              0.00   \n",
              "\n",
              "   InterestAndPenaltyBalance  AmountOfPreviousLoansBeforeLoan  \\\n",
              "0                       0.00                          83.0852   \n",
              "1                       0.00                         255.6467   \n",
              "2                     414.07                           0.0000   \n",
              "3                       0.00                         134.2144   \n",
              "4                       0.00                         146.9966   \n",
              "\n",
              "   PreviousRepaymentsBeforeLoan  Target  \n",
              "0                        0.0000       0  \n",
              "1                      258.6256       0  \n",
              "2                        0.0000       1  \n",
              "3                        0.0000       0  \n",
              "4                        0.0000       1  "
            ],
            "text/html": [
              "\n",
              "  <div id=\"df-6b9d5fdd-20f2-45c1-b85b-f6b77b081def\">\n",
              "    <div class=\"colab-df-container\">\n",
              "      <div>\n",
              "<style scoped>\n",
              "    .dataframe tbody tr th:only-of-type {\n",
              "        vertical-align: middle;\n",
              "    }\n",
              "\n",
              "    .dataframe tbody tr th {\n",
              "        vertical-align: top;\n",
              "    }\n",
              "\n",
              "    .dataframe thead th {\n",
              "        text-align: right;\n",
              "    }\n",
              "</style>\n",
              "<table border=\"1\" class=\"dataframe\">\n",
              "  <thead>\n",
              "    <tr style=\"text-align: right;\">\n",
              "      <th></th>\n",
              "      <th>BidsPortfolioManager</th>\n",
              "      <th>Interest</th>\n",
              "      <th>MonthlyPayment</th>\n",
              "      <th>Rating</th>\n",
              "      <th>PrincipalPaymentsMade</th>\n",
              "      <th>NoOfPreviousLoansBeforeLoan</th>\n",
              "      <th>PrincipalBalance</th>\n",
              "      <th>InterestAndPenaltyBalance</th>\n",
              "      <th>AmountOfPreviousLoansBeforeLoan</th>\n",
              "      <th>PreviousRepaymentsBeforeLoan</th>\n",
              "      <th>Target</th>\n",
              "    </tr>\n",
              "  </thead>\n",
              "  <tbody>\n",
              "    <tr>\n",
              "      <th>0</th>\n",
              "      <td>0</td>\n",
              "      <td>30.0</td>\n",
              "      <td>119.083443</td>\n",
              "      <td>5</td>\n",
              "      <td>115.0408</td>\n",
              "      <td>1</td>\n",
              "      <td>0.00</td>\n",
              "      <td>0.00</td>\n",
              "      <td>83.0852</td>\n",
              "      <td>0.0000</td>\n",
              "      <td>0</td>\n",
              "    </tr>\n",
              "    <tr>\n",
              "      <th>1</th>\n",
              "      <td>0</td>\n",
              "      <td>25.0</td>\n",
              "      <td>119.083443</td>\n",
              "      <td>5</td>\n",
              "      <td>140.6057</td>\n",
              "      <td>2</td>\n",
              "      <td>0.00</td>\n",
              "      <td>0.00</td>\n",
              "      <td>255.6467</td>\n",
              "      <td>258.6256</td>\n",
              "      <td>0</td>\n",
              "    </tr>\n",
              "    <tr>\n",
              "      <th>2</th>\n",
              "      <td>0</td>\n",
              "      <td>25.0</td>\n",
              "      <td>119.083443</td>\n",
              "      <td>5</td>\n",
              "      <td>203.1909</td>\n",
              "      <td>0</td>\n",
              "      <td>116.35</td>\n",
              "      <td>414.07</td>\n",
              "      <td>0.0000</td>\n",
              "      <td>0.0000</td>\n",
              "      <td>1</td>\n",
              "    </tr>\n",
              "    <tr>\n",
              "      <th>3</th>\n",
              "      <td>0</td>\n",
              "      <td>45.0</td>\n",
              "      <td>119.083443</td>\n",
              "      <td>5</td>\n",
              "      <td>57.5205</td>\n",
              "      <td>1</td>\n",
              "      <td>0.00</td>\n",
              "      <td>0.00</td>\n",
              "      <td>134.2144</td>\n",
              "      <td>0.0000</td>\n",
              "      <td>0</td>\n",
              "    </tr>\n",
              "    <tr>\n",
              "      <th>4</th>\n",
              "      <td>0</td>\n",
              "      <td>30.0</td>\n",
              "      <td>119.083443</td>\n",
              "      <td>5</td>\n",
              "      <td>319.5436</td>\n",
              "      <td>1</td>\n",
              "      <td>0.00</td>\n",
              "      <td>0.00</td>\n",
              "      <td>146.9966</td>\n",
              "      <td>0.0000</td>\n",
              "      <td>1</td>\n",
              "    </tr>\n",
              "  </tbody>\n",
              "</table>\n",
              "</div>\n",
              "      <button class=\"colab-df-convert\" onclick=\"convertToInteractive('df-6b9d5fdd-20f2-45c1-b85b-f6b77b081def')\"\n",
              "              title=\"Convert this dataframe to an interactive table.\"\n",
              "              style=\"display:none;\">\n",
              "        \n",
              "  <svg xmlns=\"http://www.w3.org/2000/svg\" height=\"24px\"viewBox=\"0 0 24 24\"\n",
              "       width=\"24px\">\n",
              "    <path d=\"M0 0h24v24H0V0z\" fill=\"none\"/>\n",
              "    <path d=\"M18.56 5.44l.94 2.06.94-2.06 2.06-.94-2.06-.94-.94-2.06-.94 2.06-2.06.94zm-11 1L8.5 8.5l.94-2.06 2.06-.94-2.06-.94L8.5 2.5l-.94 2.06-2.06.94zm10 10l.94 2.06.94-2.06 2.06-.94-2.06-.94-.94-2.06-.94 2.06-2.06.94z\"/><path d=\"M17.41 7.96l-1.37-1.37c-.4-.4-.92-.59-1.43-.59-.52 0-1.04.2-1.43.59L10.3 9.45l-7.72 7.72c-.78.78-.78 2.05 0 2.83L4 21.41c.39.39.9.59 1.41.59.51 0 1.02-.2 1.41-.59l7.78-7.78 2.81-2.81c.8-.78.8-2.07 0-2.86zM5.41 20L4 18.59l7.72-7.72 1.47 1.35L5.41 20z\"/>\n",
              "  </svg>\n",
              "      </button>\n",
              "      \n",
              "  <style>\n",
              "    .colab-df-container {\n",
              "      display:flex;\n",
              "      flex-wrap:wrap;\n",
              "      gap: 12px;\n",
              "    }\n",
              "\n",
              "    .colab-df-convert {\n",
              "      background-color: #E8F0FE;\n",
              "      border: none;\n",
              "      border-radius: 50%;\n",
              "      cursor: pointer;\n",
              "      display: none;\n",
              "      fill: #1967D2;\n",
              "      height: 32px;\n",
              "      padding: 0 0 0 0;\n",
              "      width: 32px;\n",
              "    }\n",
              "\n",
              "    .colab-df-convert:hover {\n",
              "      background-color: #E2EBFA;\n",
              "      box-shadow: 0px 1px 2px rgba(60, 64, 67, 0.3), 0px 1px 3px 1px rgba(60, 64, 67, 0.15);\n",
              "      fill: #174EA6;\n",
              "    }\n",
              "\n",
              "    [theme=dark] .colab-df-convert {\n",
              "      background-color: #3B4455;\n",
              "      fill: #D2E3FC;\n",
              "    }\n",
              "\n",
              "    [theme=dark] .colab-df-convert:hover {\n",
              "      background-color: #434B5C;\n",
              "      box-shadow: 0px 1px 3px 1px rgba(0, 0, 0, 0.15);\n",
              "      filter: drop-shadow(0px 1px 2px rgba(0, 0, 0, 0.3));\n",
              "      fill: #FFFFFF;\n",
              "    }\n",
              "  </style>\n",
              "\n",
              "      <script>\n",
              "        const buttonEl =\n",
              "          document.querySelector('#df-6b9d5fdd-20f2-45c1-b85b-f6b77b081def button.colab-df-convert');\n",
              "        buttonEl.style.display =\n",
              "          google.colab.kernel.accessAllowed ? 'block' : 'none';\n",
              "\n",
              "        async function convertToInteractive(key) {\n",
              "          const element = document.querySelector('#df-6b9d5fdd-20f2-45c1-b85b-f6b77b081def');\n",
              "          const dataTable =\n",
              "            await google.colab.kernel.invokeFunction('convertToInteractive',\n",
              "                                                     [key], {});\n",
              "          if (!dataTable) return;\n",
              "\n",
              "          const docLinkHtml = 'Like what you see? Visit the ' +\n",
              "            '<a target=\"_blank\" href=https://colab.research.google.com/notebooks/data_table.ipynb>data table notebook</a>'\n",
              "            + ' to learn more about interactive tables.';\n",
              "          element.innerHTML = '';\n",
              "          dataTable['output_type'] = 'display_data';\n",
              "          await google.colab.output.renderOutput(dataTable, element);\n",
              "          const docLink = document.createElement('div');\n",
              "          docLink.innerHTML = docLinkHtml;\n",
              "          element.appendChild(docLink);\n",
              "        }\n",
              "      </script>\n",
              "    </div>\n",
              "  </div>\n",
              "  "
            ]
          },
          "metadata": {},
          "execution_count": 31
        }
      ]
    },
    {
      "cell_type": "markdown",
      "source": [
        "READING DATA FROM USER TO FORM A DATAFRAME"
      ],
      "metadata": {
        "id": "EpJa-IoSpfZc"
      }
    },
    {
      "cell_type": "code",
      "source": [
        "import pandas as pd\n",
        "\n",
        "d1 = pd.DataFrame(columns=['BidsPortfolioManager', 'Interest', 'MonthlyPayment', 'Rating',\n",
        "       'PrincipalPaymentsMade', 'NoOfPreviousLoansBeforeLoan',\n",
        "       'PrincipalBalance', 'InterestAndPenaltyBalance',\n",
        "       'AmountOfPreviousLoansBeforeLoan', 'PreviousRepaymentsBeforeLoan',\n",
        "       ])\n",
        "parts = int(input(\"Enter the number of day rows:\"))\n",
        "\n",
        "for _ in range(parts):\n",
        "    a = input(\"Enter BidsPortfolioManager:: \")\n",
        "    b = input(\"Enter Interest:: \")\n",
        "    c = input(\"Enter  MonthlyPayment:: \")\n",
        "    d = input(\"Enter Rating:: \")\n",
        "    e = input(\"Enter PrincipalPaymentsMade:: \")\n",
        "    f = input(\"Enter NoOfPreviousLoansBeforeLoan:: \")\n",
        "    g = input(\"Enter  PrincipalBalance:: \")\n",
        "    h = input(\"Enter  InterestAndPenaltyBalance:: \")\n",
        "    i = input(\"Enter  AmountOfPreviousLoansBeforeLoan:: \")\n",
        "    j = input(\"Enter  PreviousRepaymentsBeforeLoan:: \")\n",
        "\n",
        "    d2 = pd.DataFrame(data=[[a,b,c,d,e,f,g,h,i,j]],columns=['BidsPortfolioManager', 'Interest', 'MonthlyPayment', 'Rating',\n",
        "       'PrincipalPaymentsMade', 'NoOfPreviousLoansBeforeLoan',\n",
        "       'PrincipalBalance', 'InterestAndPenaltyBalance',\n",
        "       'AmountOfPreviousLoansBeforeLoan', 'PreviousRepaymentsBeforeLoan',\n",
        "       ])\n",
        "    data = pd.concat([d1,d2], axis=0)\n",
        "\n",
        "data.index = range(len(data.index))\n",
        "data"
      ],
      "metadata": {
        "id": "98_9EjURkfR8",
        "colab": {
          "base_uri": "https://localhost:8080/",
          "height": 335
        },
        "outputId": "d975516c-e3a1-49b7-9f6b-b7b83f4822a6"
      },
      "execution_count": null,
      "outputs": [
        {
          "name": "stdout",
          "output_type": "stream",
          "text": [
            "Enter the number of day rows:1\n",
            "Enter BidsPortfolioManager:: 0\n",
            "Enter Interest:: 45.0\n",
            "Enter  MonthlyPayment:: 119.083443\n",
            "Enter Rating:: 5\n",
            "Enter PrincipalPaymentsMade:: 319.5436\n",
            "Enter NoOfPreviousLoansBeforeLoan:: 2\n",
            "Enter  PrincipalBalance:: 0.00\n",
            "Enter  InterestAndPenaltyBalance:: 0.00\n",
            "Enter  AmountOfPreviousLoansBeforeLoan:: 134.2144\n",
            "Enter  PreviousRepaymentsBeforeLoan:: 0.0000\n"
          ]
        },
        {
          "output_type": "execute_result",
          "data": {
            "text/plain": [
              "  BidsPortfolioManager Interest MonthlyPayment Rating PrincipalPaymentsMade  \\\n",
              "0                    0     45.0     119.083443      5              319.5436   \n",
              "\n",
              "  NoOfPreviousLoansBeforeLoan PrincipalBalance InterestAndPenaltyBalance  \\\n",
              "0                           2             0.00                      0.00   \n",
              "\n",
              "  AmountOfPreviousLoansBeforeLoan PreviousRepaymentsBeforeLoan  \n",
              "0                        134.2144                       0.0000  "
            ],
            "text/html": [
              "\n",
              "  <div id=\"df-f188a954-b046-420a-8492-49b48bf80c91\">\n",
              "    <div class=\"colab-df-container\">\n",
              "      <div>\n",
              "<style scoped>\n",
              "    .dataframe tbody tr th:only-of-type {\n",
              "        vertical-align: middle;\n",
              "    }\n",
              "\n",
              "    .dataframe tbody tr th {\n",
              "        vertical-align: top;\n",
              "    }\n",
              "\n",
              "    .dataframe thead th {\n",
              "        text-align: right;\n",
              "    }\n",
              "</style>\n",
              "<table border=\"1\" class=\"dataframe\">\n",
              "  <thead>\n",
              "    <tr style=\"text-align: right;\">\n",
              "      <th></th>\n",
              "      <th>BidsPortfolioManager</th>\n",
              "      <th>Interest</th>\n",
              "      <th>MonthlyPayment</th>\n",
              "      <th>Rating</th>\n",
              "      <th>PrincipalPaymentsMade</th>\n",
              "      <th>NoOfPreviousLoansBeforeLoan</th>\n",
              "      <th>PrincipalBalance</th>\n",
              "      <th>InterestAndPenaltyBalance</th>\n",
              "      <th>AmountOfPreviousLoansBeforeLoan</th>\n",
              "      <th>PreviousRepaymentsBeforeLoan</th>\n",
              "    </tr>\n",
              "  </thead>\n",
              "  <tbody>\n",
              "    <tr>\n",
              "      <th>0</th>\n",
              "      <td>0</td>\n",
              "      <td>45.0</td>\n",
              "      <td>119.083443</td>\n",
              "      <td>5</td>\n",
              "      <td>319.5436</td>\n",
              "      <td>2</td>\n",
              "      <td>0.00</td>\n",
              "      <td>0.00</td>\n",
              "      <td>134.2144</td>\n",
              "      <td>0.0000</td>\n",
              "    </tr>\n",
              "  </tbody>\n",
              "</table>\n",
              "</div>\n",
              "      <button class=\"colab-df-convert\" onclick=\"convertToInteractive('df-f188a954-b046-420a-8492-49b48bf80c91')\"\n",
              "              title=\"Convert this dataframe to an interactive table.\"\n",
              "              style=\"display:none;\">\n",
              "        \n",
              "  <svg xmlns=\"http://www.w3.org/2000/svg\" height=\"24px\"viewBox=\"0 0 24 24\"\n",
              "       width=\"24px\">\n",
              "    <path d=\"M0 0h24v24H0V0z\" fill=\"none\"/>\n",
              "    <path d=\"M18.56 5.44l.94 2.06.94-2.06 2.06-.94-2.06-.94-.94-2.06-.94 2.06-2.06.94zm-11 1L8.5 8.5l.94-2.06 2.06-.94-2.06-.94L8.5 2.5l-.94 2.06-2.06.94zm10 10l.94 2.06.94-2.06 2.06-.94-2.06-.94-.94-2.06-.94 2.06-2.06.94z\"/><path d=\"M17.41 7.96l-1.37-1.37c-.4-.4-.92-.59-1.43-.59-.52 0-1.04.2-1.43.59L10.3 9.45l-7.72 7.72c-.78.78-.78 2.05 0 2.83L4 21.41c.39.39.9.59 1.41.59.51 0 1.02-.2 1.41-.59l7.78-7.78 2.81-2.81c.8-.78.8-2.07 0-2.86zM5.41 20L4 18.59l7.72-7.72 1.47 1.35L5.41 20z\"/>\n",
              "  </svg>\n",
              "      </button>\n",
              "      \n",
              "  <style>\n",
              "    .colab-df-container {\n",
              "      display:flex;\n",
              "      flex-wrap:wrap;\n",
              "      gap: 12px;\n",
              "    }\n",
              "\n",
              "    .colab-df-convert {\n",
              "      background-color: #E8F0FE;\n",
              "      border: none;\n",
              "      border-radius: 50%;\n",
              "      cursor: pointer;\n",
              "      display: none;\n",
              "      fill: #1967D2;\n",
              "      height: 32px;\n",
              "      padding: 0 0 0 0;\n",
              "      width: 32px;\n",
              "    }\n",
              "\n",
              "    .colab-df-convert:hover {\n",
              "      background-color: #E2EBFA;\n",
              "      box-shadow: 0px 1px 2px rgba(60, 64, 67, 0.3), 0px 1px 3px 1px rgba(60, 64, 67, 0.15);\n",
              "      fill: #174EA6;\n",
              "    }\n",
              "\n",
              "    [theme=dark] .colab-df-convert {\n",
              "      background-color: #3B4455;\n",
              "      fill: #D2E3FC;\n",
              "    }\n",
              "\n",
              "    [theme=dark] .colab-df-convert:hover {\n",
              "      background-color: #434B5C;\n",
              "      box-shadow: 0px 1px 3px 1px rgba(0, 0, 0, 0.15);\n",
              "      filter: drop-shadow(0px 1px 2px rgba(0, 0, 0, 0.3));\n",
              "      fill: #FFFFFF;\n",
              "    }\n",
              "  </style>\n",
              "\n",
              "      <script>\n",
              "        const buttonEl =\n",
              "          document.querySelector('#df-f188a954-b046-420a-8492-49b48bf80c91 button.colab-df-convert');\n",
              "        buttonEl.style.display =\n",
              "          google.colab.kernel.accessAllowed ? 'block' : 'none';\n",
              "\n",
              "        async function convertToInteractive(key) {\n",
              "          const element = document.querySelector('#df-f188a954-b046-420a-8492-49b48bf80c91');\n",
              "          const dataTable =\n",
              "            await google.colab.kernel.invokeFunction('convertToInteractive',\n",
              "                                                     [key], {});\n",
              "          if (!dataTable) return;\n",
              "\n",
              "          const docLinkHtml = 'Like what you see? Visit the ' +\n",
              "            '<a target=\"_blank\" href=https://colab.research.google.com/notebooks/data_table.ipynb>data table notebook</a>'\n",
              "            + ' to learn more about interactive tables.';\n",
              "          element.innerHTML = '';\n",
              "          dataTable['output_type'] = 'display_data';\n",
              "          await google.colab.output.renderOutput(dataTable, element);\n",
              "          const docLink = document.createElement('div');\n",
              "          docLink.innerHTML = docLinkHtml;\n",
              "          element.appendChild(docLink);\n",
              "        }\n",
              "      </script>\n",
              "    </div>\n",
              "  </div>\n",
              "  "
            ]
          },
          "metadata": {},
          "execution_count": 33
        }
      ]
    },
    {
      "cell_type": "code",
      "source": [
        "data.head()"
      ],
      "metadata": {
        "id": "_R_DaPQ-ooyx",
        "colab": {
          "base_uri": "https://localhost:8080/",
          "height": 145
        },
        "outputId": "d2eb98f1-62cb-45bd-b626-c3034543bbe9"
      },
      "execution_count": null,
      "outputs": [
        {
          "output_type": "execute_result",
          "data": {
            "text/plain": [
              "  BidsPortfolioManager Interest MonthlyPayment Rating PrincipalPaymentsMade  \\\n",
              "0                    0     45.0     119.083443      5              319.5436   \n",
              "\n",
              "  NoOfPreviousLoansBeforeLoan PrincipalBalance InterestAndPenaltyBalance  \\\n",
              "0                           2             0.00                      0.00   \n",
              "\n",
              "  AmountOfPreviousLoansBeforeLoan PreviousRepaymentsBeforeLoan  \n",
              "0                        134.2144                       0.0000  "
            ],
            "text/html": [
              "\n",
              "  <div id=\"df-d58d61f4-a665-4ac3-a613-302526528e58\">\n",
              "    <div class=\"colab-df-container\">\n",
              "      <div>\n",
              "<style scoped>\n",
              "    .dataframe tbody tr th:only-of-type {\n",
              "        vertical-align: middle;\n",
              "    }\n",
              "\n",
              "    .dataframe tbody tr th {\n",
              "        vertical-align: top;\n",
              "    }\n",
              "\n",
              "    .dataframe thead th {\n",
              "        text-align: right;\n",
              "    }\n",
              "</style>\n",
              "<table border=\"1\" class=\"dataframe\">\n",
              "  <thead>\n",
              "    <tr style=\"text-align: right;\">\n",
              "      <th></th>\n",
              "      <th>BidsPortfolioManager</th>\n",
              "      <th>Interest</th>\n",
              "      <th>MonthlyPayment</th>\n",
              "      <th>Rating</th>\n",
              "      <th>PrincipalPaymentsMade</th>\n",
              "      <th>NoOfPreviousLoansBeforeLoan</th>\n",
              "      <th>PrincipalBalance</th>\n",
              "      <th>InterestAndPenaltyBalance</th>\n",
              "      <th>AmountOfPreviousLoansBeforeLoan</th>\n",
              "      <th>PreviousRepaymentsBeforeLoan</th>\n",
              "    </tr>\n",
              "  </thead>\n",
              "  <tbody>\n",
              "    <tr>\n",
              "      <th>0</th>\n",
              "      <td>0</td>\n",
              "      <td>45.0</td>\n",
              "      <td>119.083443</td>\n",
              "      <td>5</td>\n",
              "      <td>319.5436</td>\n",
              "      <td>2</td>\n",
              "      <td>0.00</td>\n",
              "      <td>0.00</td>\n",
              "      <td>134.2144</td>\n",
              "      <td>0.0000</td>\n",
              "    </tr>\n",
              "  </tbody>\n",
              "</table>\n",
              "</div>\n",
              "      <button class=\"colab-df-convert\" onclick=\"convertToInteractive('df-d58d61f4-a665-4ac3-a613-302526528e58')\"\n",
              "              title=\"Convert this dataframe to an interactive table.\"\n",
              "              style=\"display:none;\">\n",
              "        \n",
              "  <svg xmlns=\"http://www.w3.org/2000/svg\" height=\"24px\"viewBox=\"0 0 24 24\"\n",
              "       width=\"24px\">\n",
              "    <path d=\"M0 0h24v24H0V0z\" fill=\"none\"/>\n",
              "    <path d=\"M18.56 5.44l.94 2.06.94-2.06 2.06-.94-2.06-.94-.94-2.06-.94 2.06-2.06.94zm-11 1L8.5 8.5l.94-2.06 2.06-.94-2.06-.94L8.5 2.5l-.94 2.06-2.06.94zm10 10l.94 2.06.94-2.06 2.06-.94-2.06-.94-.94-2.06-.94 2.06-2.06.94z\"/><path d=\"M17.41 7.96l-1.37-1.37c-.4-.4-.92-.59-1.43-.59-.52 0-1.04.2-1.43.59L10.3 9.45l-7.72 7.72c-.78.78-.78 2.05 0 2.83L4 21.41c.39.39.9.59 1.41.59.51 0 1.02-.2 1.41-.59l7.78-7.78 2.81-2.81c.8-.78.8-2.07 0-2.86zM5.41 20L4 18.59l7.72-7.72 1.47 1.35L5.41 20z\"/>\n",
              "  </svg>\n",
              "      </button>\n",
              "      \n",
              "  <style>\n",
              "    .colab-df-container {\n",
              "      display:flex;\n",
              "      flex-wrap:wrap;\n",
              "      gap: 12px;\n",
              "    }\n",
              "\n",
              "    .colab-df-convert {\n",
              "      background-color: #E8F0FE;\n",
              "      border: none;\n",
              "      border-radius: 50%;\n",
              "      cursor: pointer;\n",
              "      display: none;\n",
              "      fill: #1967D2;\n",
              "      height: 32px;\n",
              "      padding: 0 0 0 0;\n",
              "      width: 32px;\n",
              "    }\n",
              "\n",
              "    .colab-df-convert:hover {\n",
              "      background-color: #E2EBFA;\n",
              "      box-shadow: 0px 1px 2px rgba(60, 64, 67, 0.3), 0px 1px 3px 1px rgba(60, 64, 67, 0.15);\n",
              "      fill: #174EA6;\n",
              "    }\n",
              "\n",
              "    [theme=dark] .colab-df-convert {\n",
              "      background-color: #3B4455;\n",
              "      fill: #D2E3FC;\n",
              "    }\n",
              "\n",
              "    [theme=dark] .colab-df-convert:hover {\n",
              "      background-color: #434B5C;\n",
              "      box-shadow: 0px 1px 3px 1px rgba(0, 0, 0, 0.15);\n",
              "      filter: drop-shadow(0px 1px 2px rgba(0, 0, 0, 0.3));\n",
              "      fill: #FFFFFF;\n",
              "    }\n",
              "  </style>\n",
              "\n",
              "      <script>\n",
              "        const buttonEl =\n",
              "          document.querySelector('#df-d58d61f4-a665-4ac3-a613-302526528e58 button.colab-df-convert');\n",
              "        buttonEl.style.display =\n",
              "          google.colab.kernel.accessAllowed ? 'block' : 'none';\n",
              "\n",
              "        async function convertToInteractive(key) {\n",
              "          const element = document.querySelector('#df-d58d61f4-a665-4ac3-a613-302526528e58');\n",
              "          const dataTable =\n",
              "            await google.colab.kernel.invokeFunction('convertToInteractive',\n",
              "                                                     [key], {});\n",
              "          if (!dataTable) return;\n",
              "\n",
              "          const docLinkHtml = 'Like what you see? Visit the ' +\n",
              "            '<a target=\"_blank\" href=https://colab.research.google.com/notebooks/data_table.ipynb>data table notebook</a>'\n",
              "            + ' to learn more about interactive tables.';\n",
              "          element.innerHTML = '';\n",
              "          dataTable['output_type'] = 'display_data';\n",
              "          await google.colab.output.renderOutput(dataTable, element);\n",
              "          const docLink = document.createElement('div');\n",
              "          docLink.innerHTML = docLinkHtml;\n",
              "          element.appendChild(docLink);\n",
              "        }\n",
              "      </script>\n",
              "    </div>\n",
              "  </div>\n",
              "  "
            ]
          },
          "metadata": {},
          "execution_count": 34
        }
      ]
    },
    {
      "cell_type": "markdown",
      "source": [
        "SPLIT TRAIN AND TEST DATA"
      ],
      "metadata": {
        "id": "lm7zPmfGprEp"
      }
    },
    {
      "cell_type": "code",
      "source": [
        "#train_input=data.iloc[:,:-1].values\n",
        "#Expected_output=data.iloc[:,-1].values\n",
        "train_input=data.iloc[:,[0,1,2,3,4,5,6,7,8,9]].values"
      ],
      "metadata": {
        "id": "-lDtP03KorYv"
      },
      "execution_count": null,
      "outputs": []
    },
    {
      "cell_type": "code",
      "source": [
        "train_input"
      ],
      "metadata": {
        "colab": {
          "base_uri": "https://localhost:8080/"
        },
        "id": "B60Mp5vjeYVa",
        "outputId": "855af326-897d-4cee-f901-7d0ea3056a60"
      },
      "execution_count": null,
      "outputs": [
        {
          "output_type": "execute_result",
          "data": {
            "text/plain": [
              "array([['0', '45.0', '119.083443', '5', '319.5436', '2', '0.00', '0.00',\n",
              "        '134.2144', '0.0000']], dtype=object)"
            ]
          },
          "metadata": {},
          "execution_count": 36
        }
      ]
    },
    {
      "cell_type": "markdown",
      "source": [
        "PREDICT THE OUTPUT WITH LOGISTIC REGRESSION"
      ],
      "metadata": {
        "id": "iRoXPyafpvlb"
      }
    },
    {
      "cell_type": "code",
      "source": [
        "predict= model.predict(train_input)\n",
        "print(predict)"
      ],
      "metadata": {
        "id": "96R3XtSepD7u",
        "colab": {
          "base_uri": "https://localhost:8080/"
        },
        "outputId": "55445941-ce08-4bf0-bf96-0f57a47a3aa4"
      },
      "execution_count": null,
      "outputs": [
        {
          "output_type": "stream",
          "name": "stdout",
          "text": [
            "[0]\n"
          ]
        }
      ]
    }
  ]
}